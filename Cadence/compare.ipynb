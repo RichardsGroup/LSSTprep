{
 "cells": [
  {
   "cell_type": "markdown",
   "metadata": {},
   "source": [
    "# Comparison between three different cadences"
   ]
  },
  {
   "cell_type": "markdown",
   "metadata": {},
   "source": [
    "Now we can start comparing how different cadence can recover CARMA model parameters by fitting downsampled LCs to certain models. Here, we will be examining three proposal cadences, the temporal baseline cadence, the baseline cadence without paired visits and the rolling cadence. Please refer to the LSST Observing Strategy White Paper for detailed description of each cadence. Bellow is a short introduction:  \n",
    "- Baseline Cadence(**minion_1016**): 85% WFD + 15% Mini Surveys. The main survey, WFD, will try cover as much area as possible in a given night, also each field will be observed twice in the same night. \n",
    "- Baseline, no visit pair(**kraken_1043**): Same as baseline cadence, except no requirement for visiting same field twice within one night. The result is a 2.4% increase in the total number of visit.\n",
    "- Rolling Cadence(**enigma_1260**): Non-uniform cadence. The observing frequency at some regions will be doubled or tripled within a given time interval, rotate and focus on next region afterwards. The result is that some designated regions get more visits that others within one peirod of time and the overal uniformity is achived at the end the 10 year survey."
   ]
  },
  {
   "cell_type": "markdown",
   "metadata": {},
   "source": [
    "#### Load Cadences"
   ]
  },
  {
   "cell_type": "code",
   "execution_count": 1,
   "metadata": {
    "collapsed": true
   },
   "outputs": [],
   "source": [
    "%matplotlib inline"
   ]
  },
  {
   "cell_type": "code",
   "execution_count": 2,
   "metadata": {
    "collapsed": false
   },
   "outputs": [
    {
     "name": "stderr",
     "output_type": "stream",
     "text": [
      "/home/kali/python/kali/lc.py:29: UserWarning: No display environment! Using matplotlib backend \"Agg\"\n",
      "  warnings.warn('No display environment! Using matplotlib backend \"Agg\"')\n",
      "/home/conda/lib/python2.7/site-packages/matplotlib/__init__.py:1350: UserWarning:  This call to matplotlib.use() has no effect\n",
      "because the backend has already been chosen;\n",
      "matplotlib.use() must be called *before* pylab, matplotlib.pyplot,\n",
      "or matplotlib.backends is imported for the first time.\n",
      "\n",
      "  warnings.warn(_use_error_msg)\n"
     ]
    }
   ],
   "source": [
    "import numpy as np\n",
    "import kali.carma\n",
    "import kali\n",
    "import gatspy\n",
    "from matplotlib import pyplot as plt\n",
    "plt.rcParams[\"figure.figsize\"] = [14,8]\n",
    "from lsstlc import * # derived LSST lightcurve sub-class"
   ]
  },
  {
   "cell_type": "code",
   "execution_count": 13,
   "metadata": {},
   "outputs": [],
   "source": [
    "maf = np.load('/home/mount/MAF output/58_-27_poster.npz')\n",
    "\n",
    "# get the result for minion_1016, baseline cadence\n",
    "bl_meta = maf['meta1'] # [ra, dec, min_gap, opsim_id], min_gap in hours \n",
    "bl_cadence = maf['cadence1'] # cadence in structured array\n",
    "\n",
    "#rolling cadence\n",
    "roll_meta = maf['meta3']\n",
    "roll_cadence = maf['cadence3']"
   ]
  },
  {
   "cell_type": "code",
   "execution_count": 14,
   "metadata": {},
   "outputs": [],
   "source": [
    "maf_np = np.load('/home/mount/MAF output/58_-27_np.npz')\n",
    "\n",
    "# baseline no visit pairs\n",
    "np_meta = maf_np['meta2']\n",
    "np_cadence = maf_np['cadence2']"
   ]
  },
  {
   "cell_type": "code",
   "execution_count": 29,
   "metadata": {},
   "outputs": [
    {
     "name": "stdout",
     "output_type": "stream",
     "text": [
      "Total number of visits from each cadence are: \n",
      "\n",
      "Baseline Cadence: 1837\n",
      "Baseline no visit paris: 1889\n",
      "Rolling Cadence: 2544\n"
     ]
    }
   ],
   "source": [
    "print 'Total number of visits from each cadence are: \\n'\n",
    "print 'Baseline Cadence: {}'.format(bl_cadence.shape[0])\n",
    "print 'Baseline no visit paris: {}'.format(np_cadence.shape[0])\n",
    "print 'Rolling Cadence: {}'.format(roll_cadence.shape[0])"
   ]
  },
  {
   "cell_type": "markdown",
   "metadata": {},
   "source": [
    "#### Look at the distribution on a histrogram:"
   ]
  },
  {
   "cell_type": "code",
   "execution_count": 52,
   "metadata": {},
   "outputs": [
    {
     "data": {
      "text/plain": [
       "<matplotlib.text.Text at 0x7f6ce4ac0bd0>"
      ]
     },
     "execution_count": 52,
     "metadata": {},
     "output_type": "execute_result"
    },
    {
     "data": {
      "image/png": "[encoded data removed]",
      "text/plain": [
       "<matplotlib.figure.Figure at 0x7f6ce50eb910>"
      ]
     },
     "metadata": {},
     "output_type": "display_data"
    }
   ],
   "source": [
    "fig = plt.figure()\n",
    "w1 = np.ones_like(bl_cadence['expDate'])/float(bl_cadence.shape[0])\n",
    "w2 = np.ones_like(np_cadence['expDate'])/float(np_cadence.shape[0])\n",
    "w3 = np.ones_like(roll_cadence['expDate'])/float(roll_cadence.shape[0])\n",
    "plt.hist([bl_cadence['expDate']/86400, np_cadence['expDate']/86400, roll_cadence['expDate']/86400], weights=[w1*100, w2*100, w3*100], bins=10, \n",
    "         color=['g', 'orange', 'b'], label=['Baseline Cadence', 'Baseline w/o pairs', 'Rolling Cadence'])\n",
    "plt.ylim(0,24)\n",
    "plt.xlim(0,3650)\n",
    "plt.ylabel('Percentage of Visits',fontsize=25)\n",
    "plt.legend(loc=2)\n",
    "plt.locator_params(axis='y', nbins=4)\n",
    "plt.xlabel('Time(days)', fontsize=25)"
   ]
  },
  {
   "cell_type": "markdown",
   "metadata": {},
   "source": [
    "#### Parameter Estimation"
   ]
  },
  {
   "cell_type": "markdown",
   "metadata": {},
   "source": [
    "Next, we downsample mock LCs gerenated using DRW and DHO at three cadences shown above, and then find the best-fit parameters for the downsampled LCs."
   ]
  },
  {
   "cell_type": "markdown",
   "metadata": {},
   "source": [
    "##### Fit with DRW"
   ]
  },
  {
   "cell_type": "code",
   "execution_count": 54,
   "metadata": {
    "collapsed": true
   },
   "outputs": [],
   "source": [
    "# read in mock LC and downsample at different cadence\n",
    "min_sep = float(bl_meta[2])\n",
    "drw_lc = extLC('/home/mount/LC/drw_full.npz')\n",
    "drw_bl = lsstlc(bl_meta[0], bl_meta[1], bl_cadence['expDate'], drw_lc, min_sep)\n",
    "drw_np = lsstlc(np_meta[0], np_meta[1], np_cadence['expDate'], drw_lc, min_sep)\n",
    "drw_roll = lsstlc(roll_meta[0], roll_meta[1], roll_cadence['expDate'], drw_lc, min_sep)\n",
    "\n",
    "# Initiate carma task\n",
    "drwTask = kali.carma.CARMATask(1,0,nsteps = 500)"
   ]
  },
  {
   "cell_type": "code",
   "execution_count": 55,
   "metadata": {},
   "outputs": [
    {
     "name": "stdout",
     "output_type": "stream",
     "text": [
      "Bseline best timescales: [ 120.7588806     0.88823874]\n"
     ]
    }
   ],
   "source": [
    "drwTask.clear()\n",
    "drwTask.fit(drw_bl)\n",
    "print 'Bseline best timescales: {}'.format(drwTask.bestTau)"
   ]
  },
  {
   "cell_type": "code",
   "execution_count": 56,
   "metadata": {},
   "outputs": [
    {
     "name": "stdout",
     "output_type": "stream",
     "text": [
      "Bseline w/o visit pair best timescales: [ 119.48993226    0.883427  ]\n"
     ]
    }
   ],
   "source": [
    "drwTask.clear()\n",
    "drwTask.fit(drw_np)\n",
    "print 'Bseline w/o visit pair best timescales: {}'.format(drwTask.bestTau)"
   ]
  },
  {
   "cell_type": "code",
   "execution_count": 58,
   "metadata": {},
   "outputs": [
    {
     "name": "stdout",
     "output_type": "stream",
     "text": [
      "Rolling best timescales: [ 122.86842592    0.920299  ]\n"
     ]
    }
   ],
   "source": [
    "drwTask.clear()\n",
    "drwTask.fit(drw_roll)\n",
    "print 'Rolling best timescales: {}'.format(drwTask.bestTau)"
   ]
  },
  {
   "cell_type": "markdown",
   "metadata": {},
   "source": [
    "##### Fit with DHO"
   ]
  },
  {
   "cell_type": "code",
   "execution_count": 59,
   "metadata": {},
   "outputs": [],
   "source": [
    "# read in mock LC and downsample at different cadence\n",
    "dho_lc = extLC('/home/mount/LC/dho_full.npz')\n",
    "dho_bl = lsstlc(bl_meta[0], bl_meta[1], bl_cadence['expDate'], dho_lc, min_sep)\n",
    "dho_np = lsstlc(np_meta[0], np_meta[1], np_cadence['expDate'], dho_lc, min_sep)\n",
    "dho_roll = lsstlc(roll_meta[0], roll_meta[1], roll_cadence['expDate'], dho_lc, min_sep)\n",
    "\n",
    "# Initiate carma task\n",
    "dhoTask = kali.carma.CARMATask(2,1,nsteps = 500)"
   ]
  },
  {
   "cell_type": "code",
   "execution_count": 60,
   "metadata": {},
   "outputs": [
    {
     "name": "stdout",
     "output_type": "stream",
     "text": [
      "Bseline best timescales: [  36.70655355  151.4184164     7.63323016    1.13803248]\n"
     ]
    }
   ],
   "source": [
    "dhoTask.clear()\n",
    "dhoTask.fit(dho_bl)\n",
    "print 'Bseline best timescales: {}'.format(dhoTask.bestTau)"
   ]
  },
  {
   "cell_type": "code",
   "execution_count": 61,
   "metadata": {},
   "outputs": [
    {
     "name": "stdout",
     "output_type": "stream",
     "text": [
      "Bseline w/o visit pair best timescales: [  34.62696707  160.59638525    6.82047615    1.15142009]\n"
     ]
    }
   ],
   "source": [
    "dhoTask.clear()\n",
    "dhoTask.fit(dho_np)\n",
    "print 'Bseline w/o visit pair best timescales: {}'.format(dhoTask.bestTau)"
   ]
  },
  {
   "cell_type": "code",
   "execution_count": 62,
   "metadata": {},
   "outputs": [
    {
     "name": "stdout",
     "output_type": "stream",
     "text": [
      "Rolling best timescales: [  25.70056529  180.68570798    5.4929723     1.11149499]\n"
     ]
    }
   ],
   "source": [
    "dhoTask.clear()\n",
    "dhoTask.fit(dho_roll)\n",
    "print 'Rolling best timescales: {}'.format(dhoTask.bestTau)"
   ]
  },
  {
   "cell_type": "markdown",
   "metadata": {},
   "source": [
    "#### Best-fit parameters in a table"
   ]
  },
  {
   "cell_type": "markdown",
   "metadata": {},
   "source": [
    "#### DRW\n",
    "| Cadences/Input | $\\tau$ (days) | $\\sigma$ |\n",
    "| --- | --- | --- |\n",
    "| Input | 150 | 1.0 |\n",
    "| Baseline | 120.758 | 0.888 |\n",
    "| Baseline no pair | 119.490 | 0.883 |\n",
    "| Rolling | 122.864 | 0.920 |"
   ]
  },
  {
   "cell_type": "markdown",
   "metadata": {},
   "source": [
    "#### DHO\n",
    "| Cadences/Input | $\\tau_{1}$ (days) | $\\tau_{2}$ (days) | MA timescale (days) | $\\sigma$ |\n",
    "| --- | --- | --- | --- |\n",
    "| Input | 107.8 | 33.2 | 5.5 | 1.0 |\n",
    "| Baseline | 151.418 | 36.706 | 7.633 | 1.138 |\n",
    "| Baseline no pair | 160.596 | 34.627 | 6.82 | 1.151 |\n",
    "| Rolling | 180.686 | 25.7 | 5.49 | 1.111 |"
   ]
  },
  {
   "cell_type": "code",
   "execution_count": null,
   "metadata": {},
   "outputs": [],
   "source": []
  }
 ],
 "metadata": {
  "kernelspec": {
   "display_name": "py2 (Kali)",
   "language": "python",
   "name": "kali"
  },
  "language_info": {
   "codemirror_mode": {
    "name": "ipython",
    "version": 2
   },
   "file_extension": ".py",
   "mimetype": "text/x-python",
   "name": "python",
   "nbconvert_exporter": "python",
   "pygments_lexer": "ipython2",
   "version": "2.7.13"
  }
 },
 "nbformat": 4,
 "nbformat_minor": 2
}
