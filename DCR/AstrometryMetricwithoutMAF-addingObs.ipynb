{
 "cells": [
  {
   "cell_type": "markdown",
   "metadata": {},
   "source": [
    "This notebook is almost identical to  AstrometryMetricwithoutMAF-V4-WY-Copy1 except for the final plot that it outputs."
   ]
  },
  {
   "cell_type": "code",
   "execution_count": 4,
   "metadata": {},
   "outputs": [],
   "source": [
    "import math\n",
    "import astropy\n",
    "from astropy.io import ascii\n",
    "import numpy as np\n",
    "import emcee\n",
    "import pandas as pd\n",
    "from scipy.optimize import minimize\n",
    "from numpy.random import normal\n",
    "from numpy.random import uniform\n",
    "import matplotlib as mpl\n",
    "import matplotlib.pyplot as plt\n",
    "import palettable\n",
    "import richardsplot as rplot\n",
    "%matplotlib inline\n",
    "import random\n",
    "from matplotlib import rc\n",
    "rc('text', usetex=False)"
   ]
  },
  {
   "cell_type": "markdown",
   "metadata": {},
   "source": [
    "## open file with photo-z PDF redshift bins"
   ]
  },
  {
   "cell_type": "code",
   "execution_count": 5,
   "metadata": {},
   "outputs": [],
   "source": [
    "#BEE: read in table of redshifts and save the 'zshifts' column as a variable named zshifts\n",
    "#BEE: zshifts is a list of redshifts from 0.4 to 4.0\n",
    "#GTR: This is just a list of redshift bins"
   ]
  },
  {
   "cell_type": "code",
   "execution_count": 6,
   "metadata": {},
   "outputs": [],
   "source": [
    "zshifts_Table = ascii.read('fittingS82_zshifts.dat', format='csv')\n",
    "zshifts = zshifts_Table['zshifts']"
   ]
  },
  {
   "cell_type": "markdown",
   "metadata": {},
   "source": [
    "## open file with regression values"
   ]
  },
  {
   "cell_type": "code",
   "execution_count": 7,
   "metadata": {},
   "outputs": [],
   "source": [
    "#BEE: create an array of sdss features\n",
    "#BEE: read in table of regression values, create array of zeros with shape(features, redshifts)\n",
    "#BEE: fill array of zeros with data from regression values table\n",
    "#GTR: These are the mean colors and DCR slopes for the above redshift bins"
   ]
  },
  {
   "cell_type": "code",
   "execution_count": 8,
   "metadata": {},
   "outputs": [],
   "source": [
    "sdss_features = ['u-g', 'g-r', 'r-i', 'i-z']\n",
    "sdss_features_dcr = ['u-g', 'g-r', 'r-i', 'i-z', 'u-slope', 'g-slope']\n",
    "\n",
    "color_fit_Table = ascii.read('fittingS82_zshiftfit.dat')\n",
    "color_fit_Table.remove_column('col1')\n",
    "color_fit = np.zeros((len(sdss_features), len(zshifts)))\n",
    "color_fit_dcr = np.zeros((len(sdss_features_dcr), len(zshifts)))\n",
    "for i in range(len(sdss_features)):\n",
    "    for j in range(len(zshifts)):\n",
    "        color_fit[i,j] = np.asarray(color_fit_Table[i][j])\n",
    "\n",
    "for i in range(len(sdss_features_dcr)):\n",
    "    for j in range(len(zshifts)):\n",
    "        color_fit_dcr[i,j] = np.asarray(color_fit_Table[i][j])"
   ]
  },
  {
   "cell_type": "markdown",
   "metadata": {},
   "source": [
    "## open file with regression covariance values\n"
   ]
  },
  {
   "cell_type": "code",
   "execution_count": 9,
   "metadata": {},
   "outputs": [],
   "source": [
    "#BEE: read in regression covariance data\n",
    "#BEE: create array of zeros with shape (features, features, redshifts), fill it with covariance table data\n",
    "#GTR: These are the covariances between each of the above parameters at each redshift"
   ]
  },
  {
   "cell_type": "code",
   "execution_count": 10,
   "metadata": {},
   "outputs": [],
   "source": [
    "color_covariance_Table = ascii.read('fittingS82_zshiftcovariance.dat')\n",
    "color_covariance_Table.remove_column('col1')\n",
    "color_covariance_Table.remove_column('col2')\n",
    "color_covariance = np.zeros((len(sdss_features), len(sdss_features), len(zshifts)))\n",
    "color_covariance_dcr = np.zeros((len(sdss_features_dcr), len(sdss_features_dcr), len(zshifts)))  \n",
    "l = 0\n",
    "for i in range(len(sdss_features_dcr)):\n",
    "    for j in range(len(sdss_features_dcr)):\n",
    "        for k in range(len(zshifts)):\n",
    "            color_covariance_dcr[i,j,k] = np.asarray(color_covariance_Table[l][k])\n",
    "        l += 1\n",
    "color_covariance = color_covariance_dcr[:4, :4, :]\n",
    "#print(color_covariance_dcr)\n",
    "#print(color_covariance)"
   ]
  },
  {
   "cell_type": "code",
   "execution_count": 11,
   "metadata": {},
   "outputs": [],
   "source": [
    "#BEE: Read in simulated \"true\" quasar data\n",
    "#GTR: These are simulated quasars with simulated parameters (and their errors)"
   ]
  },
  {
   "cell_type": "markdown",
   "metadata": {},
   "source": [
    "### This is just picking out one quasar that is near the given redshift"
   ]
  },
  {
   "cell_type": "code",
   "execution_count": 12,
   "metadata": {},
   "outputs": [
    {
     "name": "stdout",
     "output_type": "stream",
     "text": [
      "zspec \n",
      "------\n",
      "2.2932\n"
     ]
    }
   ],
   "source": [
    "#test_quasars0 = ascii.read('random_quasars.dat')\n",
    "select_quasar = np.random.choice(100000)\n",
    "test_quasars = ascii.read('random_quasars100k.dat')[select_quasar-1:select_quasar]\n",
    "#print(test_quasars.keys())\n",
    "select_redshift = 2.2\n",
    "while abs(test_quasars['zspec'] - select_redshift) >= 0.1:\n",
    "    select_quasar = np.random.choice(100000)\n",
    "    test_quasars=ascii.read('random_quasars100k.dat')[select_quasar-1:select_quasar]\n",
    "print(test_quasars['zspec'])"
   ]
  },
  {
   "cell_type": "markdown",
   "metadata": {},
   "source": [
    "## open file with the simulated quasar true values"
   ]
  },
  {
   "cell_type": "code",
   "execution_count": 13,
   "metadata": {},
   "outputs": [
    {
     "name": "stdout",
     "output_type": "stream",
     "text": [
      "[0.07 0.05]\n"
     ]
    }
   ],
   "source": [
    "#BEE: this cell will take observations from the OpSim rather than simulating them\n",
    "#GTR: Not sure exactly where this opSim information comes from.  Weixiang?\n",
    "#id.csv is just an indexed list of RA and Dec\n",
    "#dcr_all.csv is a list of observation parameters for each of those IDs\n",
    "#this includes airmass and filter, which is all that we use right now?\n",
    "#It seems that right now a random object is being chosen?\n",
    "astrometric_error = [0.035, 0.025]\n",
    "astrometric_error = np.multiply(astrometric_error, [2,2])\n",
    "print(astrometric_error)\n",
    "# Weixiang: import opsim cadence after fix for python2\n",
    "ids = pd.read_csv('id.csv')\n",
    "cad = pd.read_csv('dcr_all.csv')\n",
    "\n",
    "#pick random object's cadence\n",
    "random_cadence = random.randint(0,max(cad['id']))\n",
    "# assign the cadence of random object to dcr_0\n",
    "dcr_0 = cad[cad['id'] == random_cadence].copy()\n",
    "obs_g = dcr_0[dcr_0['filter'] == 'g']\n",
    "obs_u = dcr_0[dcr_0['filter'] == 'u']\n",
    "obs = np.concatenate((obs_g, obs_u))\n"
   ]
  },
  {
   "cell_type": "code",
   "execution_count": 14,
   "metadata": {},
   "outputs": [],
   "source": [
    "airmasses = np.array([item[3] for item in obs])\n",
    "filters = np.array([item[5] for item in obs])"
   ]
  },
  {
   "cell_type": "code",
   "execution_count": 15,
   "metadata": {},
   "outputs": [],
   "source": [
    "#GTR: Let's not do that experiment any more and just explore the different opSims.  \n",
    "#So either take this out or just leave the array blank."
   ]
  },
  {
   "cell_type": "code",
   "execution_count": 16,
   "metadata": {},
   "outputs": [],
   "source": [
    "experiment_to_run = 'addition'\n",
    "#experiment_to_run = 'substitution'\n",
    "#experiment_to_run = 'addition'\n",
    "airmass_to_use = []\n",
    "if experiment_to_run == 'addition':\n",
    "    filters_to_add = np.tile('g', int(len(airmass_to_use)))\n",
    "    airmasses = np.append(airmasses, airmass_to_use)\n",
    "    filters = np.append(filters, filters_to_add)\n",
    "    save_file_name = 'AstroMetric_TwilightDCR_' + str([int(airmass_to_use[i]*10) for i in range(len(airmass_to_use))]) + '.npz'"
   ]
  },
  {
   "cell_type": "markdown",
   "metadata": {},
   "source": [
    "## generate observed slopes from true slopes and observations"
   ]
  },
  {
   "cell_type": "code",
   "execution_count": 17,
   "metadata": {},
   "outputs": [],
   "source": [
    "def lnlike(theta, x, y, yerr):\n",
    "    m, lnf = theta\n",
    "    model = m*x\n",
    "    inv_sigma2 = 1.0/(yerr**2. + model**2.*np.exp(2.*lnf))\n",
    "    return -0.5*(np.sum(((y-model)**2.*inv_sigma2 - np.log(inv_sigma2))))\n",
    "\n",
    "def lnprior(theta):\n",
    "    m, lnf = theta\n",
    "    if (-1.0 < m < 1.0) and (-100.0 < lnf < 100.0):\n",
    "        return 0.0\n",
    "    return -np.inf\n",
    "\n",
    "def lnprob(theta, x, y, yerr):\n",
    "    lp = lnprior(theta)\n",
    "    if not np.isfinite(lp):\n",
    "        return -np.inf\n",
    "    return lp + lnlike(theta, x, y, yerr)\n",
    "\n",
    "def run_fit(tanZList, RList, RerrList):\n",
    "    nll = lambda *args: -lnprob(*args)\n",
    "    x = np.copy(tanZList)\n",
    "    y = np.copy(RList)\n",
    "    yerr = np.copy(RerrList)\n",
    "    #first do a simple minimization to get starting values for mcmc\n",
    "    pm = np.random.choice([-1.0,1.0], size=len(x), replace=True)\n",
    "    result = minimize(nll, [-0.001, np.log(0.5)], args=(x, y, yerr))\n",
    "    m_ml, lnf_ml = result[\"x\"]\n",
    "    #now run mcmc\n",
    "    ndim, nwalkers = 2, 100\n",
    "    pos = [result[\"x\"] + 1e-4*np.random.randn(ndim) for i in range(nwalkers)]\n",
    "    sampler = emcee.EnsembleSampler(nwalkers, ndim, lnprob, args=(x, y, yerr))\n",
    "    sampler.run_mcmc(pos, 500)\n",
    "    samples = sampler.chain[:, 50:, :].reshape((-1, ndim))\n",
    "    ms = samples[np.random.randint(len(samples), size=100)][:,0]\n",
    "    # return the median walker as the best slope and the half the 16-84th percentiles as the error\n",
    "    m_mcmc, lnf_mcmc = map(lambda v: (v[1]), zip(*np.percentile(samples, [16, 50, 84], axis=0)))\n",
    "    merr_mcmc, lnf_mcmc = map(lambda v: (0.5*(v[2]-v[0])), zip(*np.percentile(samples, [16, 50, 84], axis=0)))\n",
    "    return m_mcmc, merr_mcmc\n"
   ]
  },
  {
   "cell_type": "code",
   "execution_count": 18,
   "metadata": {},
   "outputs": [],
   "source": [
    "def slopeProgressionCalc(airmasses, filters, test_quasars, makePlot=True):\n",
    "    astrometric_error = [0.035, 0.025]\n",
    "    obs_slopes_u    = np.zeros((len(test_quasars)))\n",
    "    obs_slopes_uerr = np.zeros((len(test_quasars)))\n",
    "    obs_slopes_g    = np.zeros((len(test_quasars)))\n",
    "    obs_slopes_gerr = np.zeros((len(test_quasars)))\n",
    "    diff_array_u = []\n",
    "    diff_array_g = []\n",
    "    num_obs_array_u = []\n",
    "    num_obs_array_g = []\n",
    "    imgNumString = 0\n",
    "    xAxis = np.linspace(0, 2.0, 100)\n",
    "    for i in range(len(test_quasars)):\n",
    "        true_slope_u = test_quasars['u-slope'][i]\n",
    "        true_slope_g = test_quasars['g-slope'][i]\n",
    "        tanZList_u = np.array([])\n",
    "        RerrList_u = np.array([])\n",
    "        RList_u = np.array([])\n",
    "        tanZList_g = np.array([])\n",
    "        RerrList_g = np.array([])\n",
    "        RList_g = np.array([])\n",
    "        for j, airmass in enumerate(airmasses):\n",
    "            tanZ_obs = np.tan(np.arccos(1.0/airmass)) #tangent of zenith angle of this observation\n",
    "            if filters[j] == 'u':\n",
    "                #calculate the observed offset\n",
    "                #random scatter around the true offset using a normal distribution with the astrometric error as the standard deviation\n",
    "                R_obs = normal(true_slope_u*tanZ_obs, astrometric_error[0])\n",
    "                tanZList_u = np.append(tanZList_u, tanZ_obs)              #list of x axis values\n",
    "                RerrList_u = np.append(RerrList_u, astrometric_error[0])  #list of y axis error values\n",
    "                RList_u = np.append(RList_u, R_obs)                       #list of y axis values\n",
    "            if filters[j] == 'g':\n",
    "                R_obs = normal(true_slope_g*tanZ_obs, astrometric_error[1])\n",
    "                tanZList_g = np.append(tanZList_g, tanZ_obs)\n",
    "                RerrList_g = np.append(RerrList_g, astrometric_error[1])\n",
    "                RList_g = np.append(RList_g, R_obs)\n",
    "        NumObsPerBand = 2\n",
    "        while ((NumObsPerBand <= len(tanZList_u)) or (NumObsPerBand <= len(tanZList_g))):\n",
    "            if NumObsPerBand < len(tanZList_g):\n",
    "                tanZList_g_copy = tanZList_g[:NumObsPerBand]\n",
    "                RList_g_copy = RList_g[:NumObsPerBand]\n",
    "                RerrList_g_copy = RerrList_g[:NumObsPerBand]\n",
    "            else:\n",
    "                tanZList_g_copy = tanZList_g\n",
    "                RList_g_copy = RList_g\n",
    "                RerrList_g_copy = RerrList_g\n",
    "            if NumObsPerBand < len(tanZList_u):\n",
    "                tanZList_u_copy = tanZList_u[:NumObsPerBand]\n",
    "                RList_u_copy = RList_u[:NumObsPerBand]\n",
    "                RerrList_u_copy = RerrList_u[:NumObsPerBand]\n",
    "            else:\n",
    "                tanZList_u_copy = tanZList_u\n",
    "                RList_u_copy = RList_u\n",
    "                RerrList_u_copy = RerrList_u\n",
    "            m_mcmc_u, merr_mcmc_u = run_fit(tanZList_u_copy, RList_u_copy, RerrList_u_copy)\n",
    "            m_mcmc_g, merr_mcmc_g = run_fit(tanZList_g_copy, RList_g_copy, RerrList_g_copy)\n",
    "            slope_diff_u = abs(m_mcmc_u - true_slope_u)\n",
    "            slope_diff_g = abs(m_mcmc_g - true_slope_g)\n",
    "            if makePlot == True:\n",
    "                bestFitLine_u = m_mcmc_u*xAxis + 0.0\n",
    "                bestFitLine_g = m_mcmc_g*xAxis + 0.0\n",
    "                trueFitLine_u = true_slope_u*xAxis + 0.0\n",
    "                trueFitLine_g = true_slope_g*xAxis + 0.0\n",
    "                plt.figure(figsize=(12,12))\n",
    "                plt.subplot(121)\n",
    "                plt.title(str(len(tanZList_u_copy))+' u-band observations + fit')\n",
    "                plt.scatter(tanZList_u_copy[:NumObsPerBand-1], RList_u_copy[:NumObsPerBand-1], label = 'Observations', alpha=0.2)\n",
    "                plt.scatter(tanZList_u_copy[-1], RList_u_copy[-1], label= 'New Observation', alpha=1.0, s=35)\n",
    "                plt.plot(xAxis, bestFitLine_u, label='Fit Line')\n",
    "                plt.plot(xAxis, trueFitLine_u, label = 'True Line')\n",
    "                plt.legend(loc='upper right')\n",
    "                plt.xlabel('Tan(Z)')\n",
    "                plt.ylabel('delta R')\n",
    "                plt.xlim(0.0, 2.0)\n",
    "                plt.ylim(-0.2, 0.2)\n",
    "                plt.subplot(122)\n",
    "                plt.title(str(len(tanZList_g_copy))+' g-band observations + fit')\n",
    "                plt.scatter(tanZList_g_copy[:NumObsPerBand-1], RList_g_copy[:NumObsPerBand-1], label = 'Observations', alpha=0.2)\n",
    "                plt.scatter(tanZList_g_copy[-1], RList_g_copy[-1], label= 'New Observation', alpha=1.0, s=35)\n",
    "                plt.plot(xAxis, bestFitLine_g, label = 'Fit Line')\n",
    "                plt.plot(xAxis, trueFitLine_g, label = 'True Line')\n",
    "                plt.legend(loc='upper right')\n",
    "                plt.xlabel('Tan(Z)')\n",
    "                plt.xlim(0.0, 2.0)\n",
    "                plt.ylim(-0.2, 0.2)\n",
    "                #filename = \"TanZimgFiles/airmassOffsetFit\"+str(len(airmasses))+\"_\"+\"{:0>5d}\".format(imgNumString)\n",
    "                filename= \"TanZSequenceFiles/airmassOffsetFit_Sequence_\"+\"{:0>5d}\".format(imgNumString)\n",
    "                plt.savefig(filename)\n",
    "                plt.clf()\n",
    "                plt.close()\n",
    "                imgNumString += 1\n",
    "            diff_array_u = np.append(diff_array_u, slope_diff_u)\n",
    "            diff_array_g = np.append(diff_array_g, slope_diff_g)\n",
    "            num_obs_array_u = np.append(num_obs_array_u, len(tanZList_u_copy))\n",
    "            num_obs_array_g = np.append(num_obs_array_g, len(tanZList_g_copy))\n",
    "            NumObsPerBand += 1\n",
    "    return diff_array_u, diff_array_g, num_obs_array_u, num_obs_array_g\n",
    "    "
   ]
  },
  {
   "cell_type": "code",
   "execution_count": 22,
   "metadata": {},
   "outputs": [],
   "source": [
    "diff_array_u, diff_array_g, num_obs_array_u, num_obs_array_g = slopeProgressionCalc(airmasses, filters, test_quasars, True)"
   ]
  },
  {
   "cell_type": "code",
   "execution_count": 20,
   "metadata": {},
   "outputs": [
    {
     "name": "stdout",
     "output_type": "stream",
     "text": [
      "2.2932\n"
     ]
    },
    {
     "name": "stderr",
     "output_type": "stream",
     "text": [
      "/anaconda3/lib/python3.7/site-packages/matplotlib/font_manager.py:1241: UserWarning: findfont: Font family ['serif'] not found. Falling back to DejaVu Sans.\n",
      "  (prop.get_family(), self.defaultFamily[fontext]))\n"
     ]
    },
    {
     "data": {
      "image/png": "[encoded data removed]",
      "text/plain": [
       "<Figure size 864x432 with 2 Axes>"
      ]
     },
     "metadata": {
      "needs_background": "light"
     },
     "output_type": "display_data"
    }
   ],
   "source": [
    "print(test_quasars['zspec'][0])\n",
    "plt.figure(figsize=(12,6))\n",
    "plt.subplot(121)\n",
    "plt.plot(num_obs_array_u, diff_array_u)\n",
    "plt.ylabel('abs(predicted slope - true slope)')\n",
    "plt.xlabel('Number of Observations')\n",
    "plt.title('u-band'+str())\n",
    "plt.subplot(122)\n",
    "plt.plot(num_obs_array_g, diff_array_g)\n",
    "plt.xlabel('Number of Observations')\n",
    "plt.title('g-band')\n",
    "plt.suptitle('redshift ' + str(test_quasars['zspec'][0]))\n",
    "plt.savefig('DiffSlopevRedshift/diffSlopevRedshift' + str(test_quasars['zspec'][0])[0] + str(test_quasars['zspec'][0])[2] + '.png')"
   ]
  },
  {
   "cell_type": "code",
   "execution_count": 13,
   "metadata": {},
   "outputs": [
    {
     "ename": "NameError",
     "evalue": "name 'dcrSlopeCalc' is not defined",
     "output_type": "error",
     "traceback": [
      "\u001b[0;31m---------------------------------------------------------------------------\u001b[0m",
      "\u001b[0;31mNameError\u001b[0m                                 Traceback (most recent call last)",
      "\u001b[0;32m<ipython-input-13-cd31afc7e27f>\u001b[0m in \u001b[0;36m<module>\u001b[0;34m\u001b[0m\n\u001b[1;32m     16\u001b[0m         \u001b[0mfilters_copy\u001b[0m \u001b[0;34m=\u001b[0m \u001b[0mnp\u001b[0m\u001b[0;34m.\u001b[0m\u001b[0mdelete\u001b[0m\u001b[0;34m(\u001b[0m\u001b[0mfilters_copy\u001b[0m\u001b[0;34m,\u001b[0m \u001b[0mremove_index\u001b[0m\u001b[0;34m)\u001b[0m\u001b[0;34m\u001b[0m\u001b[0;34m\u001b[0m\u001b[0m\n\u001b[1;32m     17\u001b[0m         \u001b[0mremoved\u001b[0m \u001b[0;34m+=\u001b[0m \u001b[0;36m1\u001b[0m\u001b[0;34m\u001b[0m\u001b[0;34m\u001b[0m\u001b[0m\n\u001b[0;32m---> 18\u001b[0;31m     \u001b[0mobs_slopes_u\u001b[0m\u001b[0;34m,\u001b[0m \u001b[0mobs_slopes_uerr\u001b[0m\u001b[0;34m,\u001b[0m \u001b[0mobs_slopes_g\u001b[0m\u001b[0;34m,\u001b[0m \u001b[0mobs_slopes_gerr\u001b[0m \u001b[0;34m=\u001b[0m \u001b[0mdcrSlopeCalc\u001b[0m\u001b[0;34m(\u001b[0m\u001b[0mairmasses_copy\u001b[0m\u001b[0;34m,\u001b[0m \u001b[0mfilters_copy\u001b[0m\u001b[0;34m,\u001b[0m \u001b[0mtest_quasars\u001b[0m\u001b[0;34m)\u001b[0m\u001b[0;34m\u001b[0m\u001b[0;34m\u001b[0m\u001b[0m\n\u001b[0m\u001b[1;32m     19\u001b[0m     \u001b[0mnumber_to_leave\u001b[0m\u001b[0;34m+=\u001b[0m\u001b[0;36m1\u001b[0m\u001b[0;34m\u001b[0m\u001b[0;34m\u001b[0m\u001b[0m\n",
      "\u001b[0;31mNameError\u001b[0m: name 'dcrSlopeCalc' is not defined"
     ]
    }
   ],
   "source": [
    "number_to_leave = 2\n",
    "while number_to_leave <= 40:\n",
    "    airmasses_copy = airmasses\n",
    "    filters_copy = filters\n",
    "    if number_to_leave != \"all\":\n",
    "        #save_file_name = save_file_name[:-4] + \"_\" + str(number_to_leave) + \"obs\" + save_file_name[-4:]\n",
    "        #print(\"file name is \" + save_file_name)\n",
    "        number_to_remove = len(airmasses_copy) - number_to_leave\n",
    "    else:\n",
    "        number_to_remove = 0\n",
    "    removed = 0\n",
    "    random.seed(123011)\n",
    "    while removed < number_to_remove:\n",
    "        remove_index = random.randint(0,len(airmasses_copy)-1)\n",
    "        airmasses_copy = np.delete(airmasses_copy, remove_index)\n",
    "        filters_copy = np.delete(filters_copy, remove_index)\n",
    "        removed += 1 \n",
    "    obs_slopes_u, obs_slopes_uerr, obs_slopes_g, obs_slopes_gerr = dcrSlopeCalc(airmasses_copy, filters_copy, test_quasars)\n",
    "    number_to_leave+=1"
   ]
  },
  {
   "cell_type": "code",
   "execution_count": null,
   "metadata": {},
   "outputs": [],
   "source": [
    "def dcrSlopeCalc(airmasses, filters, test_quasars, makePlot = True):\n",
    "    astrometric_error = [0.035, 0.025]\n",
    "    obs_slopes_u    = np.zeros((len(test_quasars)))\n",
    "    obs_slopes_uerr = np.zeros((len(test_quasars)))\n",
    "    obs_slopes_g    = np.zeros((len(test_quasars)))\n",
    "    obs_slopes_gerr = np.zeros((len(test_quasars)))\n",
    "    imgNumString = 0\n",
    "    xAxis = np.linspace(0, 2.0, 100)\n",
    "    for i in range(len(test_quasars)):\n",
    "        true_slope_u = test_quasars['u-slope'][i]\n",
    "        true_slope_g = test_quasars['g-slope'][i]\n",
    "    \n",
    "        tanZList_u = np.array([])\n",
    "        RerrList_u = np.array([])\n",
    "        RList_u = np.array([])\n",
    "        tanZList_g = np.array([])\n",
    "        RerrList_g = np.array([])\n",
    "        RList_g = np.array([])\n",
    "    \n",
    "        for j, airmass in enumerate(airmasses):\n",
    "            tanZ_obs = np.tan(np.arccos(1.0/airmass)) #tangent of zenith angle of this observation\n",
    "            if filters[j] == 'u':\n",
    "                #calculate the observed offset\n",
    "                #random scatter around the true offset using a normal distribution with the astrometric error as the standard deviation\n",
    "                R_obs = normal(true_slope_u*tanZ_obs, astrometric_error[0])\n",
    "                tanZList_u = np.append(tanZList_u, tanZ_obs)              #list of x axis values\n",
    "                RerrList_u = np.append(RerrList_u, astrometric_error[0])  #list of y axis error values\n",
    "                RList_u = np.append(RList_u, R_obs)                       #list of y axis values\n",
    "            if filters[j] == 'g':\n",
    "                R_obs = normal(true_slope_g*tanZ_obs, astrometric_error[1])\n",
    "                tanZList_g = np.append(tanZList_g, tanZ_obs)\n",
    "                RerrList_g = np.append(RerrList_g, astrometric_error[1])\n",
    "                RList_g = np.append(RList_g, R_obs)\n",
    "    \n",
    "        # fit a stright line through the x and y values, using the y-err values\n",
    "        m_mcmc_u, merr_mcmc_u = run_fit(tanZList_u, RList_u, RerrList_u)\n",
    "        m_mcmc_g, merr_mcmc_g = run_fit(tanZList_g, RList_g, RerrList_g)\n",
    "        if makePlot == True:\n",
    "            bestFitLine_u = m_mcmc_u*xAxis + 0.0\n",
    "            bestFitLine_g = m_mcmc_g*xAxis + 0.0\n",
    "            trueFitLine_u = true_slope_u*xAxis + 0.0\n",
    "            trueFitLine_g = true_slope_g*xAxis + 0.0\n",
    "            plt.figure(figsize=(12,12))\n",
    "            plt.subplot(121)\n",
    "            plt.title(str(len(tanZList_u))+' u-band observations + fit')\n",
    "            plt.scatter(tanZList_u, RList_u, label = 'Observations')\n",
    "            plt.plot(xAxis, bestFitLine_u, label='Fit Line')\n",
    "            plt.plot(xAxis, trueFitLine_u, label = 'True Line')\n",
    "            plt.legend()\n",
    "            plt.xlabel('Tan(Z)')\n",
    "            plt.ylabel('delta R')\n",
    "            plt.xlim(0.0, 2.0)\n",
    "            plt.ylim(-0.2, 0.2)\n",
    "            plt.scatter(x=tanZList_u, y=RList_u)\n",
    "            plt.subplot(122)\n",
    "            plt.title(str(len(tanZList_g))+' g-band observations + fit')\n",
    "            print(tanZList_g)\n",
    "            print(RList_g)\n",
    "            plt.scatter(tanZList_g, RList_g, label = 'Observations')\n",
    "            plt.plot(xAxis, bestFitLine_g, label = 'Fit Line')\n",
    "            plt.plot(xAxis, trueFitLine_g, label = 'True Line')\n",
    "            plt.xlabel('Tan(Z)')\n",
    "            plt.xlim(0.0, 2.0)\n",
    "            plt.ylim(-0.2, 0.2)\n",
    "            plt.scatter(x=tanZList_g, y=RList_g)\n",
    "            #filename = \"TanZimgFiles/airmassOffsetFit\"+str(len(airmasses))+\"_\"+\"{:0>5d}\".format(imgNumString)\n",
    "            filename= \"TanZimgFiles/airmassOffsetFit_Adding_\"+str(len(airmasses))+\"_\"+\"{:0>5d}\".format(imgNumString)\n",
    "            plt.savefig(filename)\n",
    "            plt.clf()\n",
    "            plt.close()\n",
    "            imgNumString += 1\n",
    "        obs_slopes_u[i] = m_mcmc_u\n",
    "        obs_slopes_uerr[i] = merr_mcmc_u\n",
    "        obs_slopes_g[i] = m_mcmc_g\n",
    "        obs_slopes_gerr[i] = merr_mcmc_g\n",
    "    '''\n",
    "    if makePlot == True:\n",
    "        deltaSlope_u = []\n",
    "        deltaSlope_g = []\n",
    "        for i in range(len(obs_slopes_u)):\n",
    "            deltaSlope_u = np.append(deltaSlope_u, test_quasars['u-slope'][i] - obs_slopes_u[i])\n",
    "        for i in range(len(obs_slopes_g)):\n",
    "            deltaSlope_g = np.append(deltaSlope_g, test_quasars['g-slope'][i] - obs_slopes_g[i])\n",
    "        plt.figure(figsize=(12,12))\n",
    "        plt.subplot(121)\n",
    "        plt.hist(deltaSlope_u, bins=50, range=(-0.3,0.3))\n",
    "        plt.title('Delta Slope u-band '+str(len(airmasses)))\n",
    "        plt.subplot(122)\n",
    "        plt.hist(deltaSlope_g, bins=50, range=(-0.3,0.3))\n",
    "        plt.title('Delta Slope g-band '+str(len(airmasses)))\n",
    "        filename = \"DeltaSlopeimgFiles/deltaSlopeHist\" + str(len(airmasses))\n",
    "        plt.savefig(filename)\n",
    "    '''\n",
    "    return obs_slopes_u, obs_slopes_uerr, obs_slopes_g, obs_slopes_gerr"
   ]
  },
  {
   "cell_type": "code",
   "execution_count": null,
   "metadata": {},
   "outputs": [],
   "source": [
    "#airmass removal cell\n",
    "print(len(airmasses))\n",
    "#if you don't want to remove any, set number_to_leave to \"all\"\n",
    "number_to_leave = 20\n",
    "if number_to_leave != \"all\":\n",
    "    save_file_name = save_file_name[:-4] + \"_\" + str(number_to_leave) + \"obs\" + save_file_name[-4:]\n",
    "    print(\"file name is \" + save_file_name)\n",
    "    number_to_remove = len(airmasses) - number_to_leave\n",
    "else:\n",
    "    number_to_remove = 0\n",
    "removed = 0\n",
    "while removed < number_to_remove:\n",
    "    remove_index = random.randint(0,len(airmasses)-1)\n",
    "    airmasses = np.delete(airmasses, remove_index)\n",
    "    filters = np.delete(filters, remove_index)\n",
    "    removed += 1 "
   ]
  },
  {
   "cell_type": "code",
   "execution_count": null,
   "metadata": {},
   "outputs": [],
   "source": [
    "if experiment_to_run != 'colors':\n",
    "    obs_slopes_u, obs_slopes_uerr, obs_slopes_g, obs_slopes_gerr = dcrSlopeCalc(airmasses, filters, test_quasars)\n",
    "    obs_parameters = np.vstack([test_quasars['u-g'], test_quasars['g-r'], test_quasars['r-i'], test_quasars['i-z'], obs_slopes_u, obs_slopes_g, test_quasars['uerr'], test_quasars['gerr'], test_quasars['rerr'], test_quasars['ierr'], test_quasars['zerr'], obs_slopes_uerr, obs_slopes_gerr])\n",
    "    deltaSlope_u = np.subtract(test_quasars['u-slope'], obs_slopes_u)\n",
    "    deltaSlope_g = np.subtract(test_quasars['g-slope'], obs_slopes_g)\n",
    "else:\n",
    "    obs_parameters = np.vstack([test_quasars['u-g'], test_quasars['g-r'], test_quasars['r-i'], test_quasars['i-z'], test_quasars['uerr'], test_quasars['gerr'], test_quasars['rerr'], test_quasars['ierr'], test_quasars['zerr']])\n"
   ]
  },
  {
   "cell_type": "code",
   "execution_count": null,
   "metadata": {},
   "outputs": [],
   "source": []
  },
  {
   "cell_type": "code",
   "execution_count": null,
   "metadata": {},
   "outputs": [],
   "source": []
  }
 ],
 "metadata": {
  "anaconda-cloud": {},
  "kernelspec": {
   "display_name": "Python 3",
   "language": "python",
   "name": "python3"
  },
  "language_info": {
   "codemirror_mode": {
    "name": "ipython",
    "version": 3
   },
   "file_extension": ".py",
   "mimetype": "text/x-python",
   "name": "python",
   "nbconvert_exporter": "python",
   "pygments_lexer": "ipython3",
   "version": "3.7.1"
  }
 },
 "nbformat": 4,
 "nbformat_minor": 2
}
