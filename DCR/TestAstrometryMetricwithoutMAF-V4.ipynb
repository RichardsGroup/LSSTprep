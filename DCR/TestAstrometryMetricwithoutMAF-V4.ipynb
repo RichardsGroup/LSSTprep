{
 "cells": [
  {
   "cell_type": "code",
   "execution_count": 1,
   "metadata": {
    "collapsed": true
   },
   "outputs": [],
   "source": [
    "#comments beginning with #BEE were written by bee martin"
   ]
  },
  {
   "cell_type": "code",
   "execution_count": 2,
   "metadata": {},
   "outputs": [],
   "source": [
    "import math\n",
    "import astropy\n",
    "from astropy.io import ascii\n",
    "import numpy as np\n",
    "import emcee\n",
    "from scipy.optimize import minimize\n",
    "from numpy.random import normal\n",
    "from numpy.random import uniform"
   ]
  },
  {
   "cell_type": "markdown",
   "metadata": {},
   "source": [
    "## open file with photo-z PDF redshift bins"
   ]
  },
  {
   "cell_type": "code",
   "execution_count": 3,
   "metadata": {},
   "outputs": [],
   "source": [
    "#BEE: read in table of redshifts and save the 'zshifts' column as a variable named zshifts\n",
    "#BEE: zshifts is a list of redshifts from 0.4 to 4.0"
   ]
  },
  {
   "cell_type": "code",
   "execution_count": 4,
   "metadata": {},
   "outputs": [],
   "source": [
    "zshifts_Table = ascii.read('fittingS82_zshifts.dat', format='csv')\n",
    "zshifts = zshifts_Table['zshifts']"
   ]
  },
  {
   "cell_type": "markdown",
   "metadata": {},
   "source": [
    "## open file with regression values"
   ]
  },
  {
   "cell_type": "code",
   "execution_count": 5,
   "metadata": {},
   "outputs": [],
   "source": [
    "#BEE: create an array of sdss features\n",
    "#BEE: read in table of regression values, create array of zeros with shape(features, redshifts)\n",
    "#BEE: fill array of zeros with data from regression values table"
   ]
  },
  {
   "cell_type": "code",
   "execution_count": 6,
   "metadata": {},
   "outputs": [],
   "source": [
    "sdss_features = ['u-g', 'g-r', 'r-i', 'i-z']\n",
    "sdss_features_dcr = ['u-g', 'g-r', 'r-i', 'i-z', 'u-slope', 'g-slope']\n",
    "\n",
    "color_fit_Table = ascii.read('fittingS82_zshiftfit.dat')\n",
    "color_fit_Table.remove_column('col1')\n",
    "color_fit = np.zeros((len(sdss_features), len(zshifts)))\n",
    "color_fit_dcr = np.zeros((len(sdss_features_dcr), len(zshifts)))\n",
    "for i in range(len(sdss_features)):\n",
    "    for j in range(len(zshifts)):\n",
    "        color_fit[i,j] = np.asarray(color_fit_Table[i][j])\n",
    "\n",
    "for i in range(len(sdss_features_dcr)):\n",
    "    for j in range(len(zshifts)):\n",
    "        color_fit_dcr[i,j] = np.asarray(color_fit_Table[i][j])"
   ]
  },
  {
   "cell_type": "markdown",
   "metadata": {},
   "source": [
    "## open file with regression covariance values"
   ]
  },
  {
   "cell_type": "code",
   "execution_count": 7,
   "metadata": {},
   "outputs": [],
   "source": [
    "#BEE: read in regression covariance data\n",
    "#BEE: create array of zeros with shape (features, features, redshifts), fill it with covariance table data"
   ]
  },
  {
   "cell_type": "code",
   "execution_count": 8,
   "metadata": {},
   "outputs": [],
   "source": [
    "color_covariance_Table = ascii.read('fittingS82_zshiftcovariance.dat')\n",
    "color_covariance_Table.remove_column('col1')\n",
    "color_covariance_Table.remove_column('col2')\n",
    "color_covariance = np.zeros((len(sdss_features), len(sdss_features), len(zshifts)))\n",
    "color_covariance_dcr = np.zeros((len(sdss_features_dcr), len(sdss_features_dcr), len(zshifts)))  \n",
    "l = 0\n",
    "for i in range(len(sdss_features_dcr)):\n",
    "    for j in range(len(sdss_features_dcr)):\n",
    "        for k in range(len(zshifts)):\n",
    "            color_covariance_dcr[i,j,k] = np.asarray(color_covariance_Table[l][k])\n",
    "        l += 1\n",
    "color_covariance = color_covariance_dcr[:4, :4, :]\n",
    "#print(color_covariance_dcr)\n",
    "#print(color_covariance)"
   ]
  },
  {
   "cell_type": "markdown",
   "metadata": {},
   "source": [
    "## open file with the simulated quasar true values"
   ]
  },
  {
   "cell_type": "code",
   "execution_count": 9,
   "metadata": {},
   "outputs": [],
   "source": [
    "#BEE: Read in simulated \"true\" quasar data"
   ]
  },
  {
   "cell_type": "code",
   "execution_count": 10,
   "metadata": {},
   "outputs": [
    {
     "name": "stdout",
     "output_type": "stream",
     "text": [
      "['zspec', 'u-g', 'g-r', 'r-i', 'i-z', 'u-slope', 'g-slope', 'uerr', 'gerr', 'rerr', 'ierr', 'zerr', 'u-slopeerr', 'g-slopeerr']\n"
     ]
    }
   ],
   "source": [
    "test_quasars0 = ascii.read('random_quasars.dat')\n",
    "test_quasars = ascii.read('random_quasars100k.dat')[:1000]\n",
    "print(test_quasars.keys())"
   ]
  },
  {
   "cell_type": "markdown",
   "metadata": {},
   "source": [
    "## define the observations"
   ]
  },
  {
   "cell_type": "code",
   "execution_count": 11,
   "metadata": {},
   "outputs": [],
   "source": [
    "#BEE: simulate airmass observations in u ang g"
   ]
  },
  {
   "cell_type": "code",
   "execution_count": 12,
   "metadata": {},
   "outputs": [],
   "source": [
    "astrometric_error = [0.035,0.025]  #[u-band error, g-band error]\n",
    "\n",
    "airmasses = uniform(low=1.0, high=1.3, size=50)\n",
    "airmasses = np.append(airmasses, uniform(low=1.3, high=2.0, size=14))\n",
    "\n",
    "filters = np.tile(['u', 'g'], int(len(airmasses)/2))"
   ]
  },
  {
   "cell_type": "code",
   "execution_count": 13,
   "metadata": {},
   "outputs": [
    {
     "name": "stdout",
     "output_type": "stream",
     "text": [
      "['ra_dec', 'data']\n",
      "(0., -60.)\n"
     ]
    }
   ],
   "source": [
    "#BEE: this cell will take observations from the OpSim rather than simulating them\n",
    "astrometric_error = [0.035, 0.025]\n",
    "#astrometric_error = [0.07, 0.05]\n",
    "    \n",
    "dcr = np.load('dcr.npz')\n",
    "print(list(dcr.keys()))\n",
    "dcrra_dec = dcr['ra_dec']\n",
    "dcrdata = dcr['data']\n",
    "print(dcrra_dec[0])\n",
    "#obs_g = dcrdata[1][dcrdata[1]['filter']=='g']\n",
    "#obs_u = dcrdata[1][dcrdata[1]['filter']=='u']\n",
    "#obs = np.concatenate((obs_g, obs_u))"
   ]
  },
  {
   "cell_type": "markdown",
   "metadata": {},
   "source": [
    "GTR: Split out cell that defines airmasses.  Just define one at a time.  Predefine the experiments and comment out the ones being run each time.  Make sure that the output files are unique for each experiment.\n",
    "\n",
    "GTR: Run colors only and colors+normal DCR just once.  We don't need to run those again.  But those can be the first 2 \"experiments\"."
   ]
  },
  {
   "cell_type": "code",
   "execution_count": 14,
   "metadata": {},
   "outputs": [],
   "source": [
    "#airmasses = np.array([item[1] for item in obs])\n",
    "#filters = np.array([item[3] for item in obs])\n",
    "#airmasses_long = np.append(airmasses, [1.6, 1.6])\n",
    "#filters_long = np.append(filters, ['g', 'g'])\n",
    "#airmasses_twilight = np.append(airmasses, [2.0, 2.0])\n",
    "#filters_twilight = np.append(filters, ['g', 'g'])"
   ]
  },
  {
   "cell_type": "markdown",
   "metadata": {},
   "source": [
    "BEE: The next cell is a switch that lets you choose the experiment to run.  There are 2 types of experiments: 'substitution' and 'addition'.  Change the string in the cell to either 'substitution' or 'addition'.  The airmasses should be 1.6, 1.7, 1.8, 1.9, or 2.0.  In the case of addition, you can set airmass_to_use to an array of airmasses and it will add all of them.  NOTE: Make sure, if you're running multiple experiments, to run the cell above for each one so you don't overwrite the wrong airmasses array."
   ]
  },
  {
   "cell_type": "code",
   "execution_count": 15,
   "metadata": {},
   "outputs": [],
   "source": [
    "#experiment_to_run = 'substitution'\n",
    "experiment_to_run = 'addition'\n",
    "airmass_to_use = [1.6,1.6,1.7,1.7,1.8,1.8,1.9,1.9,2,2]"
   ]
  },
  {
   "cell_type": "code",
   "execution_count": 16,
   "metadata": {},
   "outputs": [],
   "source": [
    "if experiment_to_run == 'substitution':    \n",
    "    #airmass_to_substitute = airmass_to_use[0]\n",
    "    #index_of_lowest = np.argmin(airmasses)\n",
    "    #airmasses[index_of_lowest] = airmass_to_substitute\n",
    "    save_file_name = 'AstroMetric_SubstitutionDCR_' + str(int(airmass_to_substitute*10)) + '.npz'"
   ]
  },
  {
   "cell_type": "code",
   "execution_count": 17,
   "metadata": {},
   "outputs": [],
   "source": [
    "if experiment_to_run == 'addition':\n",
    "    #filters_to_add = np.tile('g', int(len(airmass_to_use)))\n",
    "    #airmasses = np.append(airmasses, airmass_to_use)\n",
    "    #filters = np.append(filters, filters_to_add)\n",
    "    save_file_name = 'AstroMetric_TwilightDCR_' + str([int(airmass_to_use[i]*10) for i in range(len(airmass_to_use))]) + '.npz'"
   ]
  },
  {
   "cell_type": "code",
   "execution_count": 18,
   "metadata": {},
   "outputs": [],
   "source": [
    "#print(airmasses)\n",
    "#print(filters)\n",
    "#print(save_file_name)"
   ]
  },
  {
   "cell_type": "markdown",
   "metadata": {},
   "source": [
    "## generate observed slopes from true slopes and observations"
   ]
  },
  {
   "cell_type": "code",
   "execution_count": 19,
   "metadata": {
    "collapsed": true
   },
   "outputs": [],
   "source": [
    "#BEE: lnlike calculates the loglikelihood, lnprior creates a prior on our linear fits, lnprob adds the prior to lnlike\n",
    "#BEE: run_fit runs the mcmc walkers over a range of linear fits and selects the median as the best fit and half the \n",
    "#     difference between 16th and 84th percentiles as the error"
   ]
  },
  {
   "cell_type": "code",
   "execution_count": 20,
   "metadata": {
    "collapsed": true
   },
   "outputs": [],
   "source": [
    "def lnlike(theta, x, y, yerr):\n",
    "    m, lnf = theta\n",
    "    model = m*x\n",
    "    inv_sigma2 = 1.0/(yerr**2. + model**2.*np.exp(2.*lnf))\n",
    "    return -0.5*(np.sum(((y-model)**2.*inv_sigma2 - np.log(inv_sigma2))))\n",
    "\n",
    "def lnprior(theta):\n",
    "    m, lnf = theta\n",
    "    if (-1.0 < m < 1.0) and (-100.0 < lnf < 100.0):\n",
    "        return 0.0\n",
    "    return -np.inf\n",
    "\n",
    "def lnprob(theta, x, y, yerr):\n",
    "    lp = lnprior(theta)\n",
    "    if not np.isfinite(lp):\n",
    "        return -np.inf\n",
    "    return lp + lnlike(theta, x, y, yerr)\n",
    "\n",
    "def run_fit(tanZList, RList, RerrList):\n",
    "    nll = lambda *args: -lnprob(*args)\n",
    "    x = np.copy(tanZList)\n",
    "    y = np.copy(RList)\n",
    "    yerr = np.copy(RerrList)\n",
    "    #first do a simple minimization to get starting values for mcmc\n",
    "    pm = np.random.choice([-1.0,1.0], size=len(x), replace=True)\n",
    "    result = minimize(nll, [-0.001, np.log(0.5)], args=(x, y, yerr))\n",
    "    m_ml, lnf_ml = result[\"x\"]\n",
    "    #now run mcmc\n",
    "    ndim, nwalkers = 2, 100\n",
    "    pos = [result[\"x\"] + 1e-4*np.random.randn(ndim) for i in range(nwalkers)]\n",
    "    sampler = emcee.EnsembleSampler(nwalkers, ndim, lnprob, args=(x, y, yerr))\n",
    "    sampler.run_mcmc(pos, 500)\n",
    "    samples = sampler.chain[:, 50:, :].reshape((-1, ndim))\n",
    "    ms = samples[np.random.randint(len(samples), size=100)][:,0]\n",
    "    # return the median walker as the best slope and the half the 16-84th percentiles as the error\n",
    "    m_mcmc, lnf_mcmc = map(lambda v: (v[1]), zip(*np.percentile(samples, [16, 50, 84], axis=0)))\n",
    "    merr_mcmc, lnf_mcmc = map(lambda v: (0.5*(v[2]-v[0])), zip(*np.percentile(samples, [16, 50, 84], axis=0)))\n",
    "    return m_mcmc, merr_mcmc"
   ]
  },
  {
   "cell_type": "code",
   "execution_count": 21,
   "metadata": {},
   "outputs": [],
   "source": [
    "import random\n",
    "random.seed(42)"
   ]
  },
  {
   "cell_type": "markdown",
   "metadata": {},
   "source": [
    "GTR: Split out cells that define functions from cells that make calls to those functions."
   ]
  },
  {
   "cell_type": "code",
   "execution_count": 22,
   "metadata": {},
   "outputs": [],
   "source": [
    "#def dcrSlopeCalc(airmasses, filters, test_quasars):\n",
    "def dcrSlopeCalc(experiment_to_run, airmass_to_use, dcrdata, test_quasars):    \n",
    "\n",
    "    astrometric_error = [0.035, 0.025]\n",
    "    #astrometric_error = [0.0035, 0.0025]\n",
    "    #astrometric_error = [0.07, 0.05]\n",
    "    obs_slopes_u    = np.zeros((len(test_quasars)))\n",
    "    obs_slopes_uerr = np.zeros((len(test_quasars)))\n",
    "    obs_slopes_g    = np.zeros((len(test_quasars)))\n",
    "    obs_slopes_gerr = np.zeros((len(test_quasars)))\n",
    "\n",
    "    for i in range(len(test_quasars)):\n",
    "        \n",
    "        idx = random.randrange(len(dcrdata))\n",
    "        obs_g = dcrdata[idx][dcrdata[idx]['filter']=='g']\n",
    "        obs_u = dcrdata[idx][dcrdata[idx]['filter']=='u']\n",
    "        obs = np.concatenate((obs_g, obs_u))\n",
    "        airmasses = np.array([item[1] for item in obs])\n",
    "        filters = np.array([item[3] for item in obs])\n",
    "\n",
    "        if experiment_to_run == 'substitution':    \n",
    "            airmass_to_substitute = airmass_to_use[0]\n",
    "            index_of_lowest = np.argmin(airmasses)\n",
    "            airmasses[index_of_lowest] = airmass_to_substitute\n",
    "    \n",
    "        if experiment_to_run == 'addition':\n",
    "            filters_to_add = np.tile('u', int(len(airmass_to_use)))\n",
    "            #filters_to_add = np.tile('g', int(len(airmass_to_use)))\n",
    "            airmasses = np.append(airmasses, airmass_to_use)\n",
    "            filters = np.append(filters, filters_to_add)\n",
    "        \n",
    "        true_slope_u = test_quasars['u-slope'][i]\n",
    "        true_slope_g = test_quasars['g-slope'][i]\n",
    "    \n",
    "        tanZList_u = np.array([])\n",
    "        RerrList_u = np.array([])\n",
    "        RList_u = np.array([])\n",
    "        tanZList_g = np.array([])\n",
    "        RerrList_g = np.array([])\n",
    "        RList_g = np.array([])\n",
    "    \n",
    "        for j, airmass in enumerate(airmasses):\n",
    "            tanZ_obs = np.tan(np.arccos(1.0/airmass)) #tangent of zenith angle of this observation\n",
    "            if filters[j] == 'u':\n",
    "                #calculate the observed offset\n",
    "                #random scatter around the true offset using a normal distribution with the astrometric error as the standard deviation\n",
    "                R_obs = normal(true_slope_u*tanZ_obs, astrometric_error[0])\n",
    "                tanZList_u = np.append(tanZList_u, tanZ_obs)              #list of x axis values\n",
    "                RerrList_u = np.append(RerrList_u, astrometric_error[0])  #list of y axis error values\n",
    "                RList_u = np.append(RList_u, R_obs)                       #list of y axis values\n",
    "            if filters[j] == 'g':\n",
    "                R_obs = normal(true_slope_g*tanZ_obs, astrometric_error[1])\n",
    "                tanZList_g = np.append(tanZList_g, tanZ_obs)\n",
    "                RerrList_g = np.append(RerrList_g, astrometric_error[1])\n",
    "                RList_g = np.append(RList_g, R_obs)\n",
    "    \n",
    "        # fit a stright line through the x and y values, using the y-err values\n",
    "        m_mcmc_u, merr_mcmc_u = run_fit(tanZList_u, RList_u, RerrList_u)\n",
    "        m_mcmc_g, merr_mcmc_g = run_fit(tanZList_g, RList_g, RerrList_g)\n",
    "        obs_slopes_u[i] = m_mcmc_u\n",
    "        obs_slopes_uerr[i] = merr_mcmc_u\n",
    "        obs_slopes_g[i] = m_mcmc_g\n",
    "        obs_slopes_gerr[i] = merr_mcmc_g\n",
    "        \n",
    "        if (i==0):\n",
    "            print(true_slope_g,obs_slopes_g[i])\n",
    "            import matplotlib.pyplot as plt\n",
    "            %matplotlib inline\n",
    "            plt.figure(figsize=[10,10])\n",
    "            plt.xlabel('Airmass')\n",
    "            plt.ylabel('Offset')\n",
    "            #plt.xlim(0.5,0.75)\n",
    "            #plt.ylim(0,0.4)\n",
    "            tanZgrid = np.linspace(0,1.8,1000)\n",
    "            yFit = tanZgrid*obs_slopes_u[i] + 0\n",
    "            yTrue = tanZgrid*true_slope_u + 0    \n",
    "            plt.scatter(tanZList_u,RList_u,label='data')\n",
    "            plt.plot(tanZgrid,yTrue,label='True')\n",
    "            plt.plot(tanZgrid,yFit,label='Fit')\n",
    "            plt.legend()\n",
    "            plot_save_name = save_file_name[:-4] + '_slopes.pdf'\n",
    "            plt.savefig(plot_save_name)\n",
    "            \n",
    "    return obs_slopes_u, obs_slopes_uerr, obs_slopes_g, obs_slopes_gerr"
   ]
  },
  {
   "cell_type": "code",
   "execution_count": 23,
   "metadata": {},
   "outputs": [
    {
     "name": "stdout",
     "output_type": "stream",
     "text": [
      "0.0201 0.01844251644721135\n"
     ]
    },
    {
     "name": "stderr",
     "output_type": "stream",
     "text": [
      "/Users/gtr/anaconda/envs/py36/lib/python3.6/site-packages/scipy/optimize/optimize.py:1013: RuntimeWarning: divide by zero encountered in double_scalars\n",
      "  rhok = 1.0 / (numpy.dot(yk, sk))\n",
      "/Users/gtr/anaconda/envs/py36/lib/python3.6/site-packages/scipy/optimize/optimize.py:1013: RuntimeWarning: divide by zero encountered in double_scalars\n",
      "  rhok = 1.0 / (numpy.dot(yk, sk))\n"
     ]
    },
    {
     "data": {
      "image/png": "[encoded data removed]",
      "text/plain": [
       "<Figure size 720x720 with 1 Axes>"
      ]
     },
     "metadata": {
      "needs_background": "light"
     },
     "output_type": "display_data"
    }
   ],
   "source": [
    "obs_slopes_u, obs_slopes_uerr, obs_slopes_g, obs_slopes_gerr = dcrSlopeCalc(experiment_to_run, airmass_to_use, dcrdata, test_quasars)\n",
    "obs_parameters = np.vstack([test_quasars['u-g'], test_quasars['g-r'], test_quasars['r-i'], test_quasars['i-z'], obs_slopes_u, obs_slopes_g, test_quasars['uerr'], test_quasars['gerr'], test_quasars['rerr'], test_quasars['ierr'], test_quasars['zerr'], obs_slopes_uerr, obs_slopes_gerr])\n",
    "deltaSlope_u = np.subtract(test_quasars['u-slope'], obs_slopes_u)\n",
    "deltaSlope_g = np.subtract(test_quasars['g-slope'], obs_slopes_g)"
   ]
  },
  {
   "cell_type": "markdown",
   "metadata": {},
   "source": [
    "## calculate redshift PDFs for observed quasars"
   ]
  },
  {
   "cell_type": "code",
   "execution_count": 24,
   "metadata": {},
   "outputs": [],
   "source": [
    "def calculate_PDFs(parameters, zshifts, feature_zshift_fit, feature_covariance):\n",
    "    \n",
    "    num_features = int((np.shape(parameters)[0]-1)/2)\n",
    "    num_of_quasars = np.shape(parameters)[1]\n",
    "    \n",
    "    #empty arrays to be filled\n",
    "    feature_distance =  np.zeros((num_of_quasars, num_features, len(zshifts)))\n",
    "    prob = np.zeros((num_of_quasars, len(zshifts)))\n",
    "    chi_squared =  np.zeros((num_of_quasars, len(zshifts)))\n",
    "    for i in range(num_of_quasars):\n",
    "        #empty arrays to be filled\n",
    "        features = np.zeros((num_features))\n",
    "        covariance_matrix_of_features = np.zeros((num_features,num_features))\n",
    "        \n",
    "        # loop through all the features (e.g. 'u-g', 'g-r', 'r-i', 'i-z', 'u-slope', 'g-slope')\n",
    "        for j in range(num_features):\n",
    "            for k in range(num_features):\n",
    "                if (j == k):\n",
    "                    if j < 4:\n",
    "                        # covaraince between the colors, on the diagonal\n",
    "                        covariance_matrix_of_features[j,k] = parameters[j+num_features,i]**2.0 + parameters[j+num_features+1,i]**2.0\n",
    "                    else:\n",
    "                        # covaraince between the slopes, on the diagonal\n",
    "                        covariance_matrix_of_features[j,k] = parameters[j+num_features+1,i]**2.0\n",
    "                elif abs(j - k) == 1:\n",
    "                    if j > k:\n",
    "                        if j < 4:\n",
    "                            # covaraince between the colors, just off the diagonal\n",
    "                            covariance_matrix_of_features[j,k] = -1.0*parameters[j+num_features,i]**2.0\n",
    "                    if k > j:\n",
    "                        if k < 4:\n",
    "                            # covaraince between the slopes, just off the diagonal\n",
    "                            covariance_matrix_of_features[j,k] = -1.0*parameters[k+num_features,i]**2.0\n",
    "            # difference between the features of this quasar and the regression calculate for all the quasars\n",
    "            features[j] = parameters[j,i]\n",
    "            feature_distance[i,j,:] = np.abs(features[j] - feature_zshift_fit[j,:])\n",
    "        for z in range(len(zshifts)):\n",
    "            # linear algebra from Weinstein et al. 2004\n",
    "            A = np.matrix(feature_distance[i,:,z])\n",
    "            B = np.matrix(covariance_matrix_of_features[:,:])\n",
    "            C = np.matrix(feature_covariance[:,:,z])\n",
    "            chi_squared[i,z] = np.dot(np.dot(A, (B + C).I), A.T)\n",
    "            try:\n",
    "                prob[i,z] = (np.exp(-1.0*chi_squared[i,z]/2.0))/(4.0*(math.pi**2.0)*(np.linalg.det(B + C)**0.5))\n",
    "                #if np.isnan(prob[i,z]):\n",
    "                    #prob[i,z] = 1e-250\n",
    "                    #prob[i,z] = (np.finfo(np.float64).tiny)\n",
    "            except:\n",
    "                prob[i,z] = 0.0\n",
    "        # normalize the probabilities\n",
    "        sum_of_array = np.nansum(prob[i,:], axis=0, dtype=np.float64)\n",
    "        try:\n",
    "            prob[i,:] = prob[i,:]/sum_of_array\n",
    "        except:\n",
    "            prob[i,:] = 0.0*prob[i,:]\n",
    "    return prob"
   ]
  },
  {
   "cell_type": "code",
   "execution_count": 25,
   "metadata": {},
   "outputs": [
    {
     "name": "stderr",
     "output_type": "stream",
     "text": [
      "/Users/gtr/anaconda/envs/py36/lib/python3.6/site-packages/ipykernel/__main__.py:44: RuntimeWarning: invalid value encountered in double_scalars\n",
      "/Users/gtr/anaconda/envs/py36/lib/python3.6/site-packages/ipykernel/__main__.py:44: RuntimeWarning: overflow encountered in exp\n"
     ]
    },
    {
     "data": {
      "text/plain": [
       "'\\n#dcr of opsim alone pdf\\nobs_photoz_PDFs_dcr1 = calculate_PDFs(obs_parameters_dcr1, zshifts, color_fit_dcr, color_covariance_dcr)\\n#dcr of opsim+longer observation time\\nobs_photoz_PDFs_dcr2 = calculate_PDFs(obs_parameters_dcr2, zshifts, color_fit_dcr, color_covariance_dcr)\\n#dcr of opsim+twilight survey\\nobs_photoz_PDFs_dcr3 = calculate_PDFs(obs_parameters_dcr3, zshifts, color_fit_dcr, color_covariance_dcr)\\n'"
      ]
     },
     "execution_count": 25,
     "metadata": {},
     "output_type": "execute_result"
    }
   ],
   "source": [
    "#calculate the pdf of the redshift\n",
    "obs_photoz_PDFs = calculate_PDFs(obs_parameters, zshifts, color_fit_dcr, color_covariance_dcr)\n",
    "'''\n",
    "#dcr of opsim alone pdf\n",
    "obs_photoz_PDFs_dcr1 = calculate_PDFs(obs_parameters_dcr1, zshifts, color_fit_dcr, color_covariance_dcr)\n",
    "#dcr of opsim+longer observation time\n",
    "obs_photoz_PDFs_dcr2 = calculate_PDFs(obs_parameters_dcr2, zshifts, color_fit_dcr, color_covariance_dcr)\n",
    "#dcr of opsim+twilight survey\n",
    "obs_photoz_PDFs_dcr3 = calculate_PDFs(obs_parameters_dcr3, zshifts, color_fit_dcr, color_covariance_dcr)\n",
    "'''"
   ]
  },
  {
   "cell_type": "markdown",
   "metadata": {},
   "source": [
    "## calculate the peaks of the redshift PDFs"
   ]
  },
  {
   "cell_type": "code",
   "execution_count": 26,
   "metadata": {},
   "outputs": [],
   "source": [
    "def photozPDF_to_pointestimate(photoz_PDFs, zshifts):\n",
    "    prob_threshold = 1.0/len(photoz_PDFs[0,:]) #threshold is above if all the probability were equally distributed\n",
    "    num_of_quasars = len(photoz_PDFs[:,0])\n",
    "    photoz_peaks = np.zeros((num_of_quasars))\n",
    "    for i in range(num_of_quasars):\n",
    "        zpeaks = np.array([])\n",
    "        zprobs = np.array([])\n",
    "        # all the non-nan values\n",
    "        good_idxs = np.arange(len(photoz_PDFs[i,:]), dtype=np.int)[~np.isnan(photoz_PDFs[i,:])]\n",
    "        # all the non-nan values above the probability threshold\n",
    "        good_idxs_high = good_idxs[np.where(photoz_PDFs[i,:][~np.isnan(photoz_PDFs[i,:])] > prob_threshold)[0]]\n",
    "        above_prob_threshold = list(good_idxs_high)\n",
    "        # only find peaks if there is a value above the threshold\n",
    "        if len(above_prob_threshold[1:-1]) > 1:\n",
    "            # find all the contiguous bins above the probability threshold, these are the bumps in the PDF\n",
    "            ranges = sum((list(t) for t in zip(above_prob_threshold, above_prob_threshold[1:]) if t[0]+1 != t[1]), [])\n",
    "            # add the edges of the redshift range back on\n",
    "            iranges = above_prob_threshold[0:1] + ranges + above_prob_threshold[-1:]\n",
    "            # find the peak of each of the bumps\n",
    "            for peaks in range(int(len(iranges)/2)):\n",
    "                peak_zmin = iranges[int(peaks*2):int(peaks*2) + 2][0]\n",
    "                peak_zmax = iranges[int(peaks*2):int(peaks*2) + 2][1]\n",
    "                peak_maxprob = zshifts[peak_zmin:peak_zmax+1][np.argmax(photoz_PDFs[i,peak_zmin:peak_zmax+1])]\n",
    "                # only count the peak if it isn't the minimum or maximum redshift bin\n",
    "                # there can be weird edge effects in the PDFs, so we don't want those peaks\n",
    "                if (peak_maxprob != zshifts[0]) and (peak_maxprob != zshifts[-1]):\n",
    "                    zpeaks = np.append(zpeaks, peak_maxprob)\n",
    "                    # the probability of that peak is all the area under the bump\n",
    "                    zprobs = np.append(zprobs, np.sum(photoz_PDFs[i,peak_zmin:peak_zmax+1]))\n",
    "                else:\n",
    "                    zpeaks = np.append(zpeaks, peak_maxprob)\n",
    "                    zprobs = np.append(zprobs, 0.0)\n",
    "            photoz_peaks[i] = zpeaks[np.argmax(zprobs)]\n",
    "        else:\n",
    "            photoz_peaks[i] = np.nan\n",
    "    return photoz_peaks"
   ]
  },
  {
   "cell_type": "code",
   "execution_count": 27,
   "metadata": {},
   "outputs": [
    {
     "name": "stdout",
     "output_type": "stream",
     "text": [
      "[1.81  2.8   0.95  1.765 2.33  1.47  2.535 3.15  2.73  3.14  1.81  1.035\n",
      " 1.795 1.825 0.85  3.45  3.425 1.825 1.225 1.795 2.7   1.81  2.73  1.575\n",
      " 2.94  1.39  0.79  1.905 3.375 0.85  3.45  2.77  2.025 0.83  2.7   1.3\n",
      " 2.8   2.96  2.535 2.73  3.4   0.625 1.45  1.965 1.045 2.555 2.8   1.015\n",
      " 1.81  1.985 0.625 3.45  3.85  0.83  2.97  3.275 1.025 2.545 1.31  1.455\n",
      " 2.03  1.89  3.9   1.805 1.065 1.31  3.65  2.7   1.445 0.85  1.765 1.405\n",
      " 1.515 0.625 1.075 0.845 2.05  1.025 1.925 0.625 1.235 2.95  1.47  2.77\n",
      " 1.54  2.8   2.75  1.225 1.93  1.445 2.025 3.14  1.025 0.835 3.15  2.94\n",
      " 1.1   1.045 3.8   1.935 2.545 3.4   1.56  1.795 1.965 3.45  2.8   3.65\n",
      " 3.65  3.7   3.7   3.4   1.035 0.83  1.795 2.79  1.455 2.8   0.66  1.6\n",
      " 1.465 2.535 2.235 2.565 2.025 1.225 3.85  1.225 1.075 2.77  3.7   3.75\n",
      " 3.7   1.465 0.82  1.905 2.025 0.82  0.625 0.82  1.535 1.225 0.8   1.31\n",
      " 2.79  1.535 3.7   0.935 1.84  1.985 3.45  2.77  2.545 3.75  2.8   3.9\n",
      " 0.85  0.82  1.225 1.57  1.515 2.76  2.545 3.7   1.965 0.915 3.7   2.7\n",
      " 1.455 2.005 3.55  1.81  1.905 1.475 0.835 2.94  1.965 3.7   1.46  2.025\n",
      " 3.75  2.02  1.845 0.82  2.545 2.76  1.92  3.7   1.025 1.81  3.8   2.94\n",
      " 1.39  2.95  1.93  1.225 2.555 1.795 2.535 2.8   1.81  1.045 1.475 1.31\n",
      " 1.45  2.005 2.325 2.75  1.56  2.005 1.775 3.4   3.15  2.005 1.59  1.765\n",
      " 1.31  2.005 3.14  0.82  1.31  2.8   1.455 1.84  1.86  1.47  2.94  2.97\n",
      " 1.795 0.82  2.33  1.035 2.005 2.95  0.82  3.175 3.4   3.9   2.73  0.95\n",
      " 1.475 2.555 3.4   1.59  0.915 1.225 1.025 0.85  3.425 1.81  3.7   2.73\n",
      " 2.71  1.84  3.425 1.31  2.7   3.65  2.8   3.75  1.435 3.45  2.255 1.235\n",
      " 1.065 3.6   1.93  2.005 3.275 3.15  0.6   1.515 2.23  1.81  2.95  1.825\n",
      " 1.81  2.8   1.81  0.65  2.535 1.805 0.8   2.55  2.77  0.985 3.55  1.035\n",
      " 2.545 2.96  3.9   3.7   0.825 3.6   3.14  3.8   2.71  1.225 1.81  0.625\n",
      " 0.82  1.225 1.81  2.06  1.225 2.71  2.005 2.57  2.255 3.75  2.73  2.555\n",
      " 2.76  1.02  3.4   3.14  3.425 0.65  1.84  2.94  0.935 3.7   1.485 2.73\n",
      " 2.94  3.425 2.005 2.28  1.225 1.455 1.31  1.765 3.425 1.535 1.58  2.99\n",
      " 1.035 1.45  2.92  1.81  1.225 3.14  0.825 2.215 2.025 1.985 2.64  2.71\n",
      " 2.55  3.7   1.84  0.995 2.025 2.01  2.94  3.275 2.71  3.45  3.6   1.325\n",
      " 0.82  2.7   3.6   1.29  0.955 3.95  1.81  2.73  2.73  1.57  2.65  0.85\n",
      " 0.85  2.94  2.005 1.31  3.9   2.7   2.005 1.56  3.4   3.7   3.75  3.7\n",
      " 1.995 3.15  2.94  1.985 1.965 3.275 3.6   0.835 2.7   2.545 0.82  2.8\n",
      " 1.075 2.95  1.455 1.825 1.965 3.65  1.455 1.575 3.45  1.93  1.465 2.77\n",
      " 3.15  2.94  2.005 1.795 3.14  1.985 1.985 1.47  1.025 1.225 0.835 3.7\n",
      " 1.415 2.7   3.7   1.93  2.96  3.425 1.81  2.315 1.02  2.555 0.985 1.57\n",
      " 2.005 3.95  0.71  3.6   1.015 2.005 0.8   1.57  3.4   2.71  2.94  1.985\n",
      " 1.455 1.57  1.1   1.825 1.225 0.625 2.73  2.555 1.515 2.73  3.14  3.7\n",
      " 2.005 2.73  3.85  1.81  1.015 1.065 3.425 3.15  3.4   1.225 1.225 2.96\n",
      " 2.77  1.225 0.65  2.77  0.935 1.045 1.01  2.025 0.835 1.355 1.845 3.7\n",
      " 1.2   0.935 1.455 1.94  1.235 1.225 1.1   1.985 3.7   3.425 2.94  3.425\n",
      " 0.95  1.225 1.475 1.795 1.81  0.985 2.8   3.7   3.425 3.15  3.75  3.14\n",
      " 1.005 2.7   1.225 0.82  1.81  2.94  2.015 1.81  1.58  2.71  0.85  2.005\n",
      " 2.005 2.025 1.3   1.225 2.8   0.79  1.225 1.795 1.755 3.95  1.045 2.79\n",
      " 3.15  2.025 1.435 2.65  3.15  1.225 3.65  1.025 2.77  1.225 1.465 1.475\n",
      " 1.46  2.8   2.005 2.325 1.795 1.765 2.75  0.835 2.8   2.545 2.94  1.225\n",
      " 2.04  2.7   1.805 2.7   1.225 2.535 0.71  2.77  1.065 1.93  2.555 1.47\n",
      " 1.455 3.75  1.825 3.275 1.795 3.75  2.545 2.315 3.45  1.58  3.4   0.625\n",
      " 3.7   2.02  1.515 2.565 0.915 1.57  1.01  3.7   3.7   1.445 1.445 0.9\n",
      " 3.85  2.73  2.79  1.9   1.27  1.985 1.92  1.965 1.455 1.225 1.845 1.39\n",
      " 1.84  1.81  1.025 0.935 1.025 0.82  1.355 2.94  2.55  1.57  1.84  1.22\n",
      " 1.455 3.7   1.905 1.84  1.035 1.44  1.225 0.935 3.65  2.005 2.8   2.33\n",
      " 1.455 2.79  3.65  2.555 2.025 1.225 3.15  1.46  1.385 1.965 2.325 3.7\n",
      " 2.7   1.84  0.915 3.4   1.775 2.69  3.14  3.75  0.835 1.025 1.44  3.275\n",
      " 1.005 2.555 0.85  0.625 3.7   3.45  0.45  1.225 1.04  3.15  1.225 2.7\n",
      " 1.455 2.95  1.47  3.4   1.225 2.71  3.7   1.225 3.7   3.45  1.495 3.8\n",
      " 2.79  2.8   0.65  2.77  2.8   3.7   1.475 3.45  2.8   0.915 0.625 3.75\n",
      " 2.7   2.53  2.025 3.7   1.85  0.69  2.71  3.65  1.935 1.225 2.73  3.275\n",
      " 1.455 1.465 1.455 1.3   2.71  1.225 3.7   2.535 3.8   3.65  2.005 3.45\n",
      " 1.31  1.465 0.625 1.905 2.235 2.535 1.885 1.985 3.15  1.47  3.14  1.455\n",
      " 2.71  1.47  2.92  1.515 2.33  2.025 3.45  1.795 2.555 0.82  2.8   0.83\n",
      " 1.3   1.795 3.45  2.535 1.965 1.515 1.985 0.97  0.935 1.    2.94  3.65\n",
      " 2.8   1.455 3.15  1.965 0.935 3.45  3.85  0.71  3.45  3.4   3.14  1.985\n",
      " 1.225 3.7   1.805 1.805 0.915 1.965 2.94  2.7   1.035 2.8   1.355 1.065\n",
      " 3.8   1.795 2.005 3.75  0.85  2.79  1.2   1.87  2.025 1.995 1.785 3.425\n",
      " 1.765 2.535 2.54  2.23  1.825 2.55  1.985 1.225 0.65  1.065 1.485 1.225\n",
      " 2.8   1.825 3.15  1.475 3.4   0.79  2.94  2.73  1.225 1.065 3.7   1.95\n",
      " 3.14  3.4   3.7   1.85  1.995 0.45  1.985 3.8   2.545 1.225 1.985 2.52\n",
      " 3.45  2.71  3.55  3.45  1.81  1.985 3.15  1.31  1.225 2.015 0.915 1.795\n",
      " 1.845 2.95  1.31  3.5   2.005 3.45  1.595 1.005 2.06  1.225 2.79  2.005\n",
      " 2.165 2.8   1.84  3.14  1.825 0.925 1.965 0.85  1.81  1.475 2.55  1.795\n",
      " 1.455 0.85  2.535 1.865 3.75  1.81  1.55  1.47  0.66  2.535 3.75  1.525\n",
      " 2.73  2.8   0.625 2.535 2.79  0.45  1.455 3.4   0.835 1.215 3.14  2.95\n",
      " 3.85  0.65  0.625 1.465 1.225 2.325 1.455 3.14  3.65  2.005 2.71  1.025\n",
      " 3.275 1.985 1.815 1.225 1.225 1.89  3.14  1.935 2.77  3.45  2.73  1.45\n",
      " 0.85  2.545 2.28  0.77  0.85  1.455 2.035 1.485 0.79  3.5   1.005 1.045\n",
      " 1.325 1.765 1.475 0.85  2.8   2.77  3.275 2.005 1.515 0.85  3.65  3.15\n",
      " 1.84  1.485 2.73  1.3   1.84  3.45  1.965 0.85  1.225 1.455 3.425 1.81\n",
      " 3.7   0.85  1.3   3.45  3.7   0.95  1.225 0.845 2.8   2.33  2.96  1.235\n",
      " 3.7   1.515 3.65  1.765 1.455 1.925 3.7   0.79  3.7   1.795 3.65  1.825\n",
      " 1.025 2.555 0.65  0.85  1.035 2.285 3.7   2.94  3.15  0.625 2.555 1.225\n",
      " 1.47  1.065 1.46  3.14  1.765 3.75  1.93  2.94  2.73  1.81  3.15  0.65\n",
      " 3.4   2.535 1.965 1.93  3.7   1.045 2.06  1.225 2.005 3.45  3.75  1.225\n",
      " 2.025 1.95  3.7   0.915]\n"
     ]
    }
   ],
   "source": [
    "obs_photoz_peaks = photozPDF_to_pointestimate(obs_photoz_PDFs, zshifts)\n",
    "#obs_photoz_peaks_dcr1 = photozPDF_to_pointestimate(obs_photoz_PDFs_dcr1, zshifts)\n",
    "#obs_photoz_peaks_dcr2 = photozPDF_to_pointestimate(obs_photoz_PDFs_dcr2, zshifts)\n",
    "#obs_photoz_peaks_dcr3 = photozPDF_to_pointestimate(obs_photoz_PDFs_dcr3, zshifts)\n",
    "print(obs_photoz_peaks)"
   ]
  },
  {
   "cell_type": "markdown",
   "metadata": {},
   "source": [
    "## Save Experiment"
   ]
  },
  {
   "cell_type": "code",
   "execution_count": 28,
   "metadata": {},
   "outputs": [],
   "source": [
    "fileName = save_file_name\n",
    "test_quasars_zspec = test_quasars['zspec']\n",
    "np.savez(fileName, \n",
    "         airmasses=airmasses,\n",
    "         filters=filters,\n",
    "         deltaSlope_g=deltaSlope_g, \n",
    "         deltaSlope_u=deltaSlope_u, \n",
    "         z_phot=obs_photoz_peaks,\n",
    "         z_true=test_quasars_zspec,\n",
    "         redshift=zshifts)"
   ]
  },
  {
   "cell_type": "markdown",
   "metadata": {},
   "source": [
    "## write out the simulated quasars"
   ]
  },
  {
   "cell_type": "code",
   "execution_count": 29,
   "metadata": {
    "collapsed": true
   },
   "outputs": [],
   "source": [
    "test_quasars_zspec = test_quasars['zspec']\n",
    "\n",
    "with open('simulatedquasars_photozPDFs.dat', \"w\") as file_name:\n",
    "    file_name.write(\"#zspec photozpeak photozPDF\")\n",
    "    file_name.write(\"\\n\")\n",
    "    for i in range(len(test_quasars_zspec)):\n",
    "        file_name.write(\"%0.4f %0.4f \" % (test_quasars_zspec[i], obs_photoz_peaks[i]))\n",
    "        for j in range(len(obs_photoz_PDFs[i,:])):\n",
    "            file_name.write(\"%0.4f \" % (obs_photoz_PDFs[i,j]))\n",
    "        file_name.write(\"\\n\")\n",
    "\n",
    "with open('simulatedquasars_obsparameters.dat', \"w\") as file_name:\n",
    "    file_name.write(\"#zspec u-g g-r r-i i-z u-slope g-slope uerr gerr rerr ierr zerr u-slopeerr g-slopeerr\")\n",
    "    file_name.write(\"\\n\")\n",
    "    for i in range(len(test_quasars_zspec)):\n",
    "        for j in range(len(obs_parameters[:,i])):\n",
    "            file_name.write(\"%0.4f \" % (obs_parameters[j,i]))\n",
    "        file_name.write(\"\\n\")"
   ]
  },
  {
   "cell_type": "markdown",
   "metadata": {},
   "source": [
    "GTR: Have everything below read in data files in order to produce plots.  Let's just make single panels instead of 2x2.  We can build those if need be.\n",
    "\n",
    "GTR: Add z_spec vs. zphot plots and Delta z histograms"
   ]
  },
  {
   "cell_type": "markdown",
   "metadata": {},
   "source": [
    "## calculate the redshift quality metric"
   ]
  },
  {
   "cell_type": "code",
   "execution_count": 30,
   "metadata": {},
   "outputs": [],
   "source": [
    "def photo_z_robust_stdev(z_est, z_true, zshifts):\n",
    "    \"\"\"\n",
    "    Sort the delta_z data into redshift bins in z_true.\n",
    "    Delta_z is defined as (z_true - z_est) / (1. + z_true).\n",
    "    \n",
    "    Calculate the robust standard deviation in each bin as a function of true redshift.\n",
    "    Robust standard deviation is defined as the standard deviation of delta_z in the bin where delta_z\n",
    "    is defined as (z_true - z_est) / (1. + z_true) and we trim the highest and lowest 25% of delta_z values.\n",
    "    \"\"\"\n",
    "\n",
    "    delta_z = (z_true - z_est) / (1. + z_true)\n",
    "    idx_sort = z_true.argsort()\n",
    "    delta_z_sort = delta_z[idx_sort]\n",
    "    z_true_sort = z_true[idx_sort]\n",
    "    idx_bins = z_true_sort.searchsorted(zshifts)\n",
    "    delta_z_binned = [delta_z_sort[idx_bins[i]:idx_bins[i+1]] for i in range(len(zshifts)-1)]\n",
    "    stdev_iqr_results = []\n",
    "    for delta_z_data in delta_z_binned:\n",
    "        if len(delta_z_data) == 0:\n",
    "            stdev_iqr_results.append(np.nan)\n",
    "            continue\n",
    "        bin_25 = np.percentile(delta_z_data, 25.)\n",
    "        bin_75 = np.percentile(delta_z_data, 75.)\n",
    "        diff = bin_75 - bin_25\n",
    "        stdev_iqr_results.append(diff/1.349)\n",
    "    return np.array(stdev_iqr_results)"
   ]
  },
  {
   "cell_type": "markdown",
   "metadata": {},
   "source": [
    "## Load in Save File"
   ]
  },
  {
   "cell_type": "code",
   "execution_count": 31,
   "metadata": {},
   "outputs": [
    {
     "name": "stdout",
     "output_type": "stream",
     "text": [
      "AstroMetric_TwilightDCR_[16, 16, 17, 17, 18, 18, 19, 19, 20, 20]\n"
     ]
    }
   ],
   "source": [
    "#put the name of the file you want to plot from here\n",
    "#file_to_load = 'this_is_a_placeholder.npz'  #Defaults to file that was just created, but can be changed\n",
    "file_to_load = save_file_name\n",
    "plot_data = np.load(file_to_load)\n",
    "print(file_to_load[:-4])"
   ]
  },
  {
   "cell_type": "code",
   "execution_count": 32,
   "metadata": {},
   "outputs": [],
   "source": [
    "#calculate standard deviation of zphot over the interquartile range\n",
    "stdev_iqr = photo_z_robust_stdev(plot_data['z_phot'], plot_data['z_true'], plot_data['redshift'])"
   ]
  },
  {
   "cell_type": "code",
   "execution_count": 33,
   "metadata": {},
   "outputs": [
    {
     "data": {
      "image/png": "[encoded data removed]",
      "text/plain": [
       "<Figure size 720x720 with 1 Axes>"
      ]
     },
     "metadata": {
      "needs_background": "light"
     },
     "output_type": "display_data"
    }
   ],
   "source": [
    "import matplotlib.pyplot as plt\n",
    "%matplotlib inline\n",
    "plt.figure(figsize=[10,10])\n",
    "plt.xlabel('True Redshift')\n",
    "plt.ylabel('Standarad Deviation within Interquartile Range')\n",
    "plt.xlim(0.3,4)\n",
    "plt.ylim(0,0.4)\n",
    "plt.plot(plot_data['redshift'][:-1], stdev_iqr)\n",
    "plot_save_name = file_to_load[:-4] + '_stdev_iqr_plot.pdf'\n",
    "plt.savefig(plot_save_name)"
   ]
  },
  {
   "cell_type": "code",
   "execution_count": 34,
   "metadata": {},
   "outputs": [
    {
     "data": {
      "image/png": "[encoded data removed]",
      "text/plain": [
       "<Figure size 720x720 with 1 Axes>"
      ]
     },
     "metadata": {
      "needs_background": "light"
     },
     "output_type": "display_data"
    }
   ],
   "source": [
    "plt.figure(figsize=[10,10])\n",
    "plt.xlabel('True Redshift')\n",
    "plt.ylabel('Zphot')\n",
    "plt.scatter(plot_data['z_true'], plot_data['z_phot'])\n",
    "#print(plot_data['z_true']-plot_data['z_phot'])\n",
    "#print(plot_data['z_true'])\n",
    "plot_save_name = file_to_load[:-4] + '_ztrue_vs_zphot_plot.pdf'\n",
    "plt.savefig(plot_save_name)"
   ]
  },
  {
   "cell_type": "code",
   "execution_count": 35,
   "metadata": {},
   "outputs": [
    {
     "name": "stdout",
     "output_type": "stream",
     "text": [
      "0.011199999999999877\n"
     ]
    },
    {
     "data": {
      "image/png": "[encoded data removed]",
      "text/plain": [
       "<Figure size 720x720 with 1 Axes>"
      ]
     },
     "metadata": {
      "needs_background": "light"
     },
     "output_type": "display_data"
    }
   ],
   "source": [
    "deltaZ = np.subtract(plot_data['z_true'], plot_data['z_phot'])\n",
    "deltaZ = deltaZ[~np.isnan(deltaZ)]\n",
    "print(np.median(deltaZ))\n",
    "ydata, bin_edges = np.histogram(deltaZ, bins='fd')\n",
    "#ydata, bin_edges = np.histogram(deltaZ, bins=10)\n",
    "bins = 0.5*(bin_edges[:-1]+bin_edges[1:])\n",
    "#print(ydata, bin_edges, bins)\n",
    "#z_err = np.divide(deltaZ, [1+z for z in plot_data['z_true']])\n",
    "plt.figure(figsize=[10,10])\n",
    "plt.xlabel('deltaZ')\n",
    "plt.ylabel('Counts')\n",
    "#plt.hist(ydata,bin_edges)\n",
    "plt.step(bins,ydata)\n",
    "plot_save_name = file_to_load[:-4] + '_deltaZ_hist_plot.pdf'\n",
    "#plt.xlim(-0.2,0.2)\n",
    "plt.savefig(plot_save_name)"
   ]
  },
  {
   "cell_type": "code",
   "execution_count": 36,
   "metadata": {},
   "outputs": [
    {
     "name": "stdout",
     "output_type": "stream",
     "text": [
      "Total STD_DEV_IQR= 7.151618597158613\n"
     ]
    }
   ],
   "source": [
    "stdev_iqr = stdev_iqr[~np.isnan(stdev_iqr)]\n",
    "print('Total STD_DEV_IQR=',stdev_iqr.sum())"
   ]
  }
 ],
 "metadata": {
  "anaconda-cloud": {},
  "kernelspec": {
   "display_name": "Python [conda env:py36]",
   "language": "python",
   "name": "conda-env-py36-py"
  },
  "language_info": {
   "codemirror_mode": {
    "name": "ipython",
    "version": 3
   },
   "file_extension": ".py",
   "mimetype": "text/x-python",
   "name": "python",
   "nbconvert_exporter": "python",
   "pygments_lexer": "ipython3",
   "version": "3.6.7"
  }
 },
 "nbformat": 4,
 "nbformat_minor": 2
}
