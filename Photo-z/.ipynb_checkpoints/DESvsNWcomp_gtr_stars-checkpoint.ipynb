{
 "cells": [
  {
   "cell_type": "markdown",
   "metadata": {},
   "source": [
    "This notebook produces:  <ul>\n",
    "    <li> scatter plots of the color-color distributions of objects in our test set </li>\n",
    "    <li> histograms comparing the photo-z distributions of the 4 DES methods and our Nadaraya-Watson method trained on DES photometry </li>\n",
    "    </ul>\n",
    "The objects used are objects labelled as \"stars\" from GTR-ADM-QSO-ir-testhighz_findbw_lup_2016_starclean.fits that were also imaged in the DES science verificaton GOLD catalog.  "
   ]
  },
  {
   "cell_type": "markdown",
   "metadata": {},
   "source": [
    "143,439 objects in gtr are sdss dr12 quasars (3897 of which are labelled as quasars) <br>\n",
    "81,509 objects in gtr are sdss dr7 quasars (2273 of which are labelled as quasars) <br>\n",
    "459142 objects in gtr have zspec = 0, all of which are labelled as stars <br>\n",
    "689365 total objects in gtr are labelled as stars"
   ]
  },
  {
   "cell_type": "markdown",
   "metadata": {},
   "source": [
    "3649 stars out of 689365 total matched to DES SVA1 gold"
   ]
  },
  {
   "cell_type": "code",
   "execution_count": 1,
   "metadata": {},
   "outputs": [],
   "source": [
    "import numpy as np\n",
    "from astropy.table import Table\n",
    "from sklearn.model_selection import train_test_split, cross_val_predict\n",
    "from sklearn.metrics import classification_report\n",
    "from astroML.linear_model import NadarayaWatson\n",
    "import matplotlib as mpl\n",
    "import matplotlib.pyplot as plt\n",
    "import matplotlib.patches as mpatches\n",
    "import palettable\n",
    "import richardsplot as rplot\n",
    "%matplotlib inline"
   ]
  },
  {
   "cell_type": "code",
   "execution_count": 2,
   "metadata": {},
   "outputs": [
    {
     "name": "stdout",
     "output_type": "stream",
     "text": [
      "3649\n"
     ]
    }
   ],
   "source": [
    "#read in table\n",
    "destable_annz = Table.read('gtr_star+dessva1gold_annz.fits')\n",
    "#prevent a bug involving MaskedColumns\n",
    "destable_annz = destable_annz.filled()\n",
    "print len(destable_annz)"
   ]
  },
  {
   "cell_type": "code",
   "execution_count": 3,
   "metadata": {},
   "outputs": [],
   "source": [
    "destable_bpz = Table.read('gtr_star+dessva1gold_bpz.fits')\n",
    "destable_bpz = destable_bpz.filled()"
   ]
  },
  {
   "cell_type": "code",
   "execution_count": 4,
   "metadata": {},
   "outputs": [],
   "source": [
    "destable_skynet = Table.read('gtr_star+dessva1gold_skynet.fits')\n",
    "destable_skynet = destable_skynet.filled()"
   ]
  },
  {
   "cell_type": "code",
   "execution_count": 5,
   "metadata": {},
   "outputs": [],
   "source": [
    "destable_tpz = Table.read('gtr_star+dessva1gold_tpz.fits')\n",
    "destable_tpz = destable_tpz.filled()"
   ]
  },
  {
   "cell_type": "code",
   "execution_count": 6,
   "metadata": {},
   "outputs": [
    {
     "name": "stderr",
     "output_type": "stream",
     "text": [
      "c:\\python27\\lib\\site-packages\\astroML\\linear_model\\kernel_regression.py:52: RuntimeWarning: invalid value encountered in divide\n",
      "  return (K * self.y).sum(1) / K.sum(1)\n"
     ]
    }
   ],
   "source": [
    "#stack together photometry bands, des photo-z, and des object class\n",
    "X_annz = np.vstack([destable_annz['MAG_AUTO_G'], destable_annz['MAG_AUTO_R'], destable_annz['MAG_AUTO_I'], destable_annz['MAG_AUTO_Z'], destable_annz['Z_MEAN'], destable_annz['MODEST_CLASS'] ]).T\n",
    "y_annz = np.array(destable_annz['zspec'])\n",
    "#split into test and training sets of 1/5 and 4/5 size respectively\n",
    "X_train_annz, X_test_annz, y_train_annz, y_test_annz = train_test_split(X_annz, y_annz, test_size=0.2, random_state=76)\n",
    "#empty arrays for photometry bands\n",
    "X_traintrue_annz = np.empty((X_train_annz.shape[0], X_train_annz.shape[1]-2), dtype=float) \n",
    "X_testtrue_annz = np.empty((X_test_annz.shape[0], X_test_annz.shape[1]-2), dtype=float)\n",
    "#empty array for des photo-z\n",
    "DesZs_annz = np.empty((X_test_annz.shape[0], 1), dtype=float) \n",
    "#empty array for des object class\n",
    "ModestClass_annz = np.empty((X_test_annz.shape[0], 1), dtype=int)\n",
    "#loop through to separate the photometry from the des photo-z and object class\n",
    "for i in range(len(X_train_annz)):\n",
    "    X_traintrue_annz[i] = X_train_annz[i][:4] \n",
    "for i in range(len(X_test_annz)):\n",
    "    X_testtrue_annz[i] = X_test_annz[i][:4]\n",
    "    DesZs_annz[i] = X_test_annz[i][4]\n",
    "    ModestClass_annz[i] = X_test_annz[i][5] \n",
    "#initialize model with gaussian kernel of width 0.05\n",
    "model_annz = NadarayaWatson('gaussian', 0.05)\n",
    "#fit model to training set\n",
    "model_annz.fit(X_traintrue_annz, y_train_annz)\n",
    "#produce a photo-z estimate\n",
    "pred_annz = model_annz.predict(X_testtrue_annz)"
   ]
  },
  {
   "cell_type": "code",
   "execution_count": 7,
   "metadata": {},
   "outputs": [],
   "source": [
    "X_bpz = np.vstack([destable_bpz['MAG_AUTO_G'], destable_bpz['MAG_AUTO_R'], destable_bpz['MAG_AUTO_I'], destable_bpz['MAG_AUTO_Z'], destable_bpz['Z_MEAN'], destable_bpz['MODEST_CLASS'] ]).T\n",
    "y_bpz = np.array(destable_bpz['zspec'])\n",
    "X_train_bpz, X_test_bpz, y_train_bpz, y_test_bpz = train_test_split(X_bpz, y_bpz, test_size=0.2, random_state=76)\n",
    "X_traintrue_bpz = np.empty((X_train_bpz.shape[0], X_train_bpz.shape[1]-2), dtype=float) \n",
    "X_testtrue_bpz = np.empty((X_test_bpz.shape[0], X_test_bpz.shape[1]-2), dtype=float)\n",
    "DesZs_bpz = np.empty((X_test_bpz.shape[0], 1), dtype=float) \n",
    "ModestClass_bpz = np.empty((X_test_bpz.shape[0], 1), dtype=int)\n",
    "\n",
    "for i in range(len(X_train_bpz)):\n",
    "    X_traintrue_bpz[i] = X_train_bpz[i][:4] \n",
    "for i in range(len(X_test_bpz)):\n",
    "    X_testtrue_bpz[i] = X_test_bpz[i][:4]\n",
    "    DesZs_bpz[i] = X_test_bpz[i][4]\n",
    "    ModestClass_bpz[i] = X_test_bpz[i][5] \n",
    "    \n",
    "model_bpz = NadarayaWatson('gaussian', 0.05)\n",
    "model_bpz.fit(X_traintrue_bpz, y_train_bpz)\n",
    "pred_bpz = model_bpz.predict(X_testtrue_bpz)"
   ]
  },
  {
   "cell_type": "code",
   "execution_count": 8,
   "metadata": {},
   "outputs": [],
   "source": [
    "X_skynet = np.vstack([destable_skynet['MAG_AUTO_G'], destable_skynet['MAG_AUTO_R'], destable_skynet['MAG_AUTO_I'], destable_skynet['MAG_AUTO_Z'], destable_skynet['Z_MEAN'], destable_skynet['MODEST_CLASS'] ]).T\n",
    "y_skynet = np.array(destable_skynet['zspec'])\n",
    "X_train_skynet, X_test_skynet, y_train_skynet, y_test_skynet = train_test_split(X_skynet, y_skynet, test_size=0.2, random_state=76)\n",
    "X_traintrue_skynet = np.empty((X_train_skynet.shape[0], X_train_skynet.shape[1]-2), dtype=float) \n",
    "X_testtrue_skynet = np.empty((X_test_skynet.shape[0], X_test_skynet.shape[1]-2), dtype=float)\n",
    "DesZs_skynet = np.empty((X_test_skynet.shape[0], 1), dtype=float) \n",
    "ModestClass_skynet = np.empty((X_test_skynet.shape[0], 1), dtype=int)\n",
    "\n",
    "for i in range(len(X_train_skynet)):\n",
    "    X_traintrue_skynet[i] = X_train_skynet[i][:4] \n",
    "for i in range(len(X_test_skynet)):\n",
    "    X_testtrue_skynet[i] = X_test_skynet[i][:4]\n",
    "    DesZs_skynet[i] = X_test_skynet[i][4]\n",
    "    ModestClass_skynet[i] = X_test_skynet[i][5] \n",
    "    \n",
    "model_skynet = NadarayaWatson('gaussian', 0.05)\n",
    "model_skynet.fit(X_traintrue_skynet, y_train_skynet)\n",
    "pred_skynet = model_skynet.predict(X_testtrue_skynet)"
   ]
  },
  {
   "cell_type": "code",
   "execution_count": 9,
   "metadata": {},
   "outputs": [],
   "source": [
    "X_tpz = np.vstack([destable_tpz['MAG_AUTO_G'], destable_tpz['MAG_AUTO_R'], destable_tpz['MAG_AUTO_I'], destable_tpz['MAG_AUTO_Z'], destable_tpz['Z_MEAN'], destable_tpz['MODEST_CLASS'] ]).T\n",
    "y_tpz = np.array(destable_tpz['zspec'])\n",
    "X_train_tpz, X_test_tpz, y_train_tpz, y_test_tpz = train_test_split(X_tpz, y_tpz, test_size=0.2, random_state=76)\n",
    "X_traintrue_tpz = np.empty((X_train_tpz.shape[0], X_train_tpz.shape[1]-2), dtype=float) \n",
    "X_testtrue_tpz = np.empty((X_test_tpz.shape[0], X_test_tpz.shape[1]-2), dtype=float)\n",
    "DesZs_tpz = np.empty((X_test_tpz.shape[0], 1), dtype=float) \n",
    "ModestClass_tpz = np.empty((X_test_tpz.shape[0], 1), dtype=int)\n",
    "\n",
    "for i in range(len(X_train_tpz)):\n",
    "    X_traintrue_tpz[i] = X_train_tpz[i][:4] \n",
    "for i in range(len(X_test_tpz)):\n",
    "    X_testtrue_tpz[i] = X_test_tpz[i][:4]\n",
    "    DesZs_tpz[i] = X_test_tpz[i][4]\n",
    "    ModestClass_tpz[i] = X_test_tpz[i][5] \n",
    "    \n",
    "model_tpz = NadarayaWatson('gaussian', 0.05)\n",
    "model_tpz.fit(X_traintrue_tpz, y_train_tpz)\n",
    "pred_tpz = model_tpz.predict(X_testtrue_tpz)"
   ]
  },
  {
   "cell_type": "code",
   "execution_count": 26,
   "metadata": {},
   "outputs": [],
   "source": [
    "#plot colors\n",
    "g_r=[]\n",
    "r_i=[]\n",
    "i_z=[]\n",
    "for i in range(len(X_testtrue_annz)):\n",
    "    g_r = np.append(g_r, (X_testtrue_annz.T[0][i] - X_testtrue_annz.T[1][i]))\n",
    "    r_i = np.append(r_i, (X_testtrue_annz.T[1][i] - X_testtrue_annz.T[2][i]))\n",
    "    i_z = np.append(i_z, (X_testtrue_annz.T[2][i] - X_testtrue_annz.T[3][i]))"
   ]
  },
  {
   "cell_type": "code",
   "execution_count": 29,
   "metadata": {},
   "outputs": [
    {
     "data": {
      "text/plain": [
       "Text(0.5,0.98,'Color-Color Distributions')"
      ]
     },
     "execution_count": 29,
     "metadata": {},
     "output_type": "execute_result"
    },
    {
     "data": {
      "image/png": "[encoded data removed]",
      "text/plain": [
       "<Figure size 936x432 with 2 Axes>"
      ]
     },
     "metadata": {},
     "output_type": "display_data"
    }
   ],
   "source": [
    "plt.figure(figsize=(13,6))\n",
    "plt.subplot(121)\n",
    "plt.scatter(r_i, g_r, s=5)\n",
    "plt.xlim(-3,3)\n",
    "plt.ylim(-3,3)\n",
    "plt.xlabel('r-i')\n",
    "plt.ylabel('g-r')\n",
    "plt.subplot(122)\n",
    "plt.scatter(i_z, r_i, s=5)\n",
    "plt.xlim(-3,3)\n",
    "plt.ylim(-3,3)\n",
    "plt.xlabel('i-z')\n",
    "plt.ylabel('r-i')\n",
    "plt.suptitle('Color-Color Distributions')"
   ]
  },
  {
   "cell_type": "markdown",
   "metadata": {},
   "source": [
    "Above scatter plots show the color-color distributions of the objects in our test set.  The left panel compares the g-r and r-i colors, the right panel compares the r-i and i-z colors.  "
   ]
  },
  {
   "cell_type": "code",
   "execution_count": 27,
   "metadata": {},
   "outputs": [],
   "source": [
    "#hist of photo-z\n",
    "for i in range(len(pred_annz)):\n",
    "    if not np.isfinite(pred_annz[i]):\n",
    "        pred_annz[i] = 100"
   ]
  },
  {
   "cell_type": "code",
   "execution_count": 28,
   "metadata": {},
   "outputs": [
    {
     "data": {
      "text/plain": [
       "<matplotlib.legend.Legend at 0x139d10f0>"
      ]
     },
     "execution_count": 28,
     "metadata": {},
     "output_type": "execute_result"
    },
    {
     "data": {
      "image/png": "[encoded data removed]",
      "text/plain": [
       "<Figure size 864x864 with 4 Axes>"
      ]
     },
     "metadata": {},
     "output_type": "display_data"
    }
   ],
   "source": [
    "plt.figure(figsize=(12,12))\n",
    "plt.subplot(221)\n",
    "plt.hist(pred_annz, bins_photz, alpha=0.5, label='NW prediction')\n",
    "plt.hist(DesZs_annz, bins_photz, alpha=0.5, label='ANNZ2')\n",
    "plt.xlabel('Photo-z')\n",
    "plt.ylabel('Counts')\n",
    "plt.title('ANNZ2')\n",
    "plt.legend(loc=1)\n",
    "plt.subplot(222)\n",
    "plt.hist(pred_annz, bins_photz, alpha=0.5, label='NW prediction')\n",
    "plt.hist(DesZs_bpz, bins_photz, alpha=0.5, label='BPZ')\n",
    "plt.xlabel('Photo-z')\n",
    "plt.ylabel('Counts')\n",
    "plt.title('BPZ')\n",
    "plt.legend(loc=1)\n",
    "plt.subplot(223)\n",
    "plt.hist(pred_annz, bins_photz, alpha=0.5, label='NW prediction')\n",
    "plt.hist(DesZs_skynet, bins_photz, alpha=0.5, label='Skynet')\n",
    "plt.xlabel('Photo-z')\n",
    "plt.ylabel('Counts')\n",
    "plt.title('Skynet')\n",
    "plt.legend(loc=1)\n",
    "plt.subplot(224)\n",
    "plt.hist(pred_annz, bins_photz, alpha=0.5, label='NW prediction')\n",
    "plt.hist(DesZs_tpz, bins_photz, alpha=0.5, label='TPZ')\n",
    "plt.xlabel('Photo-z')\n",
    "plt.ylabel('Counts')\n",
    "plt.title('TPZ')\n",
    "plt.legend(loc=1)"
   ]
  },
  {
   "cell_type": "markdown",
   "metadata": {},
   "source": [
    "Above histograms show the distributions of the 4 DES photo-z methods overlaid on the distribution of our Nadaraya-Watson photo-z estimate. The respective DES method is in orange, with our NW method in blue.   "
   ]
  },
  {
   "cell_type": "code",
   "execution_count": 10,
   "metadata": {},
   "outputs": [],
   "source": [
    "#empty arrays for object classification \n",
    "stars_annz = np.empty(shape=(0,3))\n",
    "gals_annz = np.empty(shape=(0,3))\n",
    "uns_annz = np.empty(shape=(0,3))\n",
    "#loop through and sort objects based on des object class\n",
    "for i in range(len(ModestClass_annz)):\n",
    "    if ModestClass_annz[i] == 2:\n",
    "        stars_annz = np.append(stars_annz, [[pred_annz[i], DesZs_annz[i], y_test_annz[i]]], axis = 0)\n",
    "    elif ModestClass_annz[i] == 1:\n",
    "        gals_annz = np.append(gals_annz, [[pred_annz[i], DesZs_annz[i], y_test_annz[i]]], axis = 0)\n",
    "    else:\n",
    "        uns_annz = np.append(uns_annz, [[pred_annz[i], DesZs_annz[i], y_test_annz[i]]], axis = 0)"
   ]
  },
  {
   "cell_type": "code",
   "execution_count": 11,
   "metadata": {},
   "outputs": [],
   "source": [
    "stars_bpz = np.empty(shape=(0,3))\n",
    "gals_bpz = np.empty(shape=(0,3))\n",
    "uns_bpz = np.empty(shape=(0,3))\n",
    "for i in range(len(ModestClass_bpz)):\n",
    "    if ModestClass_bpz[i] == 2:\n",
    "        stars_bpz = np.append(stars_bpz, [[pred_bpz[i], DesZs_bpz[i], y_test_bpz[i]]], axis = 0)\n",
    "    elif ModestClass_bpz[i] == 1:\n",
    "        gals_bpz = np.append(gals_bpz, [[pred_bpz[i], DesZs_bpz[i], y_test_bpz[i]]], axis = 0)\n",
    "    else:\n",
    "        uns_bpz = np.append(uns_bpz, [[pred_bpz[i], DesZs_bpz[i], y_test_bpz[i]]], axis = 0)"
   ]
  },
  {
   "cell_type": "code",
   "execution_count": 12,
   "metadata": {},
   "outputs": [],
   "source": [
    "stars_skynet = np.empty(shape=(0,3))\n",
    "gals_skynet = np.empty(shape=(0,3))\n",
    "uns_skynet = np.empty(shape=(0,3))\n",
    "for i in range(len(ModestClass_skynet)):\n",
    "    if ModestClass_skynet[i] == 2:\n",
    "        stars_skynet = np.append(stars_skynet, [[pred_skynet[i], DesZs_skynet[i], y_test_skynet[i]]], axis = 0)\n",
    "    elif ModestClass_skynet[i] == 1:\n",
    "        gals_skynet = np.append(gals_skynet, [[pred_skynet[i], DesZs_skynet[i], y_test_skynet[i]]], axis = 0)\n",
    "    else:\n",
    "        uns_skynet = np.append(uns_skynet, [[pred_skynet[i], DesZs_skynet[i], y_test_skynet[i]]], axis = 0)"
   ]
  },
  {
   "cell_type": "code",
   "execution_count": 13,
   "metadata": {},
   "outputs": [],
   "source": [
    "stars_tpz = np.empty(shape=(0,3))\n",
    "gals_tpz = np.empty(shape=(0,3))\n",
    "uns_tpz = np.empty(shape=(0,3))\n",
    "for i in range(len(ModestClass_tpz)):\n",
    "    if ModestClass_tpz[i] == 2:\n",
    "        stars_tpz = np.append(stars_tpz, [[pred_tpz[i], DesZs_tpz[i], y_test_tpz[i]]], axis = 0)\n",
    "    elif ModestClass_tpz[i] == 1:\n",
    "        gals_tpz = np.append(gals_tpz, [[pred_tpz[i], DesZs_tpz[i], y_test_tpz[i]]], axis = 0)\n",
    "    else:\n",
    "        uns_tpz = np.append(uns_tpz, [[pred_tpz[i], DesZs_tpz[i], y_test_tpz[i]]], axis = 0)"
   ]
  }
 ],
 "metadata": {
  "anaconda-cloud": {},
  "kernelspec": {
   "display_name": "Python 2",
   "language": "python",
   "name": "python2"
  },
  "language_info": {
   "codemirror_mode": {
    "name": "ipython",
    "version": 2
   },
   "file_extension": ".py",
   "mimetype": "text/x-python",
   "name": "python",
   "nbconvert_exporter": "python",
   "pygments_lexer": "ipython2",
   "version": "2.7.9"
  }
 },
 "nbformat": 4,
 "nbformat_minor": 2
}
