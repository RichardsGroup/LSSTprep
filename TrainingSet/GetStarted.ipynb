{
 "cells": [
  {
   "cell_type": "markdown",
   "metadata": {},
   "source": [
    "## S82 training set for AGN selection\n",
    "This directory hosts the Stripe 82 training set for AGN classification in LSST. At the end of this notebook, we list a set of tasks that we have accomplished regarding building the training set and those that we have planned on doing. We are aware that the SciServer ecosystem is **NOT** identical to the future LSST Science Platform, but we think that SciServer is a good place to share data and code among the AGN SC to encourage collaborations at this moment, plus SciServer provides free computing resource and also adopts Jupyter environment. Please do not hesitate to suggest alternative solutions.   \n",
    "\n",
    "The training data (both catalog and light curves) are stored in zarr files, which stores data in chuncks and thus enables parallel read/write. There are many good features of zarr to mention, and using zarr as the backend storage is only an experiment to enable faster data I/O. To minimize the learning curve, I wrote some functions to easily explore and access the catalog and light curves ([Training Set V1](./DataV1_EDA.ipynb)/[Training Set V2](./DataV2_EDA.ipynb)). "
   ]
  },
  {
   "cell_type": "markdown",
   "metadata": {},
   "source": [
    "### V1"
   ]
  },
  {
   "cell_type": "markdown",
   "metadata": {},
   "source": [
    "The first version of this training set uses old public data from [Ivezic et al. 2007](http://faculty.washington.edu/ivezic/sdss/catalogs/S82variables.html) and [MacLeod et al. 2010](http://faculty.washington.edu/ivezic/macleod/qso_dr7/Southern.html). The training set consists of two catalogs, a quasar catalog (10696 sources) and a non-AGN variables catalog (59491 sources), and the associated light curves. All quasars have spectroscopic confirmations, but not every source in the non-AGN catalog is guaranteed to be non-AGN (needs spectroscopic confirmation). Moreover, the objects in the non-AGN catalog don't have associated CRTS light curves at the moment, only SDSS light curves are included. \n",
    "\n",
    "#### Finished:\n",
    "- Compliled a catalog of quasars and a catalog of non-AGN (not 100% pure) variables using SDSS DR7 and DR14\n",
    "- Collected SDSS light curves for objects found above\n",
    "- Collected available CRTS light curves for QSOs in the catalog\n",
    "- Merged in available SpIES (~90 degree^2) MIR detections for objects in the QSO and non-AGN variables catalogs\n",
    "- Merged in Gaia DR2 proper motion measurement for for objects in the QSO and non-AGN variables catalogs\n",
    "- Calculated colors, if not already exist, for objects in the QSO catalog using best-fit PSF mags\n",
    "- Write functions to perform simple light curve merging (gri \\& crts+sdss)\n",
    "\n",
    "**Since we are working on a second version of this training set, once the second version is completed, this version will be archived**  \n",
    "\n",
    "- [Access Training Set V1](./DataV1_EDA.ipynb)"
   ]
  },
  {
   "cell_type": "markdown",
   "metadata": {},
   "source": [
    "### V2"
   ]
  },
  {
   "cell_type": "markdown",
   "metadata": {},
   "source": [
    "The second version is build completely from scratch, with all SDSS photometry measurement directly queried using SDSS casjob. Since many more AGN candidates were confirmed in BOSS and eBOSS. The new AGN catalog now contains ~25k confirmed sources. At the same time, the number of non-AGN varaibles in our catalog has reduced to ~25k, for two reason, first, we found that the S82 variables catalog from Ivezic acctually covers a larger area than what is defined by in the SDSS database, and two, simple due to the increased number confirmed AGNs. In addtion to the change of population, we added extinction values in all 5 bands, astrometric offset and airmass for every observation in the SDSS light curves. The Gaia proper motion and parallax measurements, and SpIES IR detection are kept unchanged.  Lastly, since the second version is still under active development, we currently don't have light curves from other surveys besides SDSS.  \n",
    "- [Access Training Set V2](./DataV2_EDA.ipynb)"
   ]
  },
  {
   "cell_type": "markdown",
   "metadata": {},
   "source": [
    "#### Finished:\n",
    "- Compliled a catalog of quasars and a catalog of non-AGN (not 100% pure) variables using SDSS DR7 and DR14\n",
    "- Collected SDSS light curves for objects found above\n",
    "- Merged in available SpIES (~90 degree^2) MIR detections for objects in the QSO and non-AGN variables catalogs\n",
    "- Merged in Gaia DR2 proper motion measurement for for objects in the QSO and non-AGN variables catalogs\n",
    "- Write functions to perform simple light curve merging (gri)"
   ]
  },
  {
   "cell_type": "markdown",
   "metadata": {},
   "source": [
    "#### To do:\n",
    "- [ ] Clean up the non-AGN sample (remove contaminated AGNs if possible)\n",
    "- [ ] Fit DHO model to merged light curves (crts + other surveys)\n",
    "- [x] Get colors (best-fit mags) for all sources in the two catalogs using casjob\n",
    "- [ ] Get corresponding CRTS light curves (DR3) for all sources"
   ]
  },
  {
   "cell_type": "markdown",
   "metadata": {},
   "source": [
    "---\n",
    "**!! Note:**   \n",
    "It is recommended for everyone to copy the `Script_Nbs` directory to your own `persistent` storage and play with the notebook from there. Otherwise, issues might occur when multiple people execute the same notebook at the same time. If you really wish to work offline, you can download the zipped directory, but just be aware that the ``utils`` module assums the existing directory hierarchy and moving the data diretory to other places must accompanied by an update to the `utils` moodule (qso_path and var_path variables).   \n",
    "\n",
    "To learn more about the zarr file structure: [Zarr](./Zarr.ipynb)."
   ]
  },
  {
   "cell_type": "code",
   "execution_count": null,
   "metadata": {},
   "outputs": [],
   "source": []
  }
 ],
 "metadata": {
  "kernelspec": {
   "display_name": "Python 3",
   "language": "python",
   "name": "python3"
  },
  "language_info": {
   "codemirror_mode": {
    "name": "ipython",
    "version": 3
   },
   "file_extension": ".py",
   "mimetype": "text/x-python",
   "name": "python",
   "nbconvert_exporter": "python",
   "pygments_lexer": "ipython3",
   "version": "3.6.7"
  }
 },
 "nbformat": 4,
 "nbformat_minor": 2
}