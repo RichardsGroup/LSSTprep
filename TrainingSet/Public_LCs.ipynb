{
 "cells": [
  {
   "cell_type": "code",
   "execution_count": 1,
   "metadata": {},
   "outputs": [],
   "source": [
    "from IPython.display import Image\n",
    "from IPython.core.display import HTML"
   ]
  },
  {
   "cell_type": "markdown",
   "metadata": {},
   "source": [
    "## Some of the currently avaiable public light curves"
   ]
  },
  {
   "cell_type": "markdown",
   "metadata": {},
   "source": [
    "## PTF \\& iPTF\n",
    "- March 1, 2009 - Jan 28, 2015\n",
    "- 600M transients\n",
    "- 60 seconds exposure\n",
    "- 5$\\sigma$ rMag < 20.5, gMag < 21\n",
    "- Non-uniform cadence, but as low as 90 seconds (as high as 5 days?)\n",
    "- data publically online at: https://www.ptf.caltech.edu/page/lcgui\n",
    "\n",
    "#### Caveats\n",
    "- g band has less coverage than r band\n",
    "- not all epochs were used to construct light curves\n",
    "- mag_autocorr has better sensitivity to variablity than the default mag_auto (SExtractor) \n",
    "  but lacks correponding correct mag_err\n",
    "    \n",
    "**More info** about light curve construction can be found at link below:  \n",
    "https://www.ptf.caltech.edu/page/lcdb"
   ]
  },
  {
   "cell_type": "markdown",
   "metadata": {},
   "source": [
    "#### Coverage in r band"
   ]
  },
  {
   "cell_type": "code",
   "execution_count": 2,
   "metadata": {},
   "outputs": [
    {
     "data": {
      "text/html": [
       "<img src=\"https://www.ptf.caltech.edu/system/media_files/binaries/17/original/DR3_coverage_R_equ_0_0.png\" width=\"800\" height=\"600\"/>"
      ],
      "text/plain": [
       "<IPython.core.display.Image object>"
      ]
     },
     "execution_count": 2,
     "metadata": {},
     "output_type": "execute_result"
    }
   ],
   "source": [
    "Image(url= \"https://www.ptf.caltech.edu/system/media_files/binaries/17/original/DR3_coverage_R_equ_0_0.png\", width=800, height=600)"
   ]
  },
  {
   "cell_type": "markdown",
   "metadata": {},
   "source": [
    "---\n",
    "## ZTF DR1\n",
    "\n",
    "- 2018 03-17 -> 2018 12-31\n",
    "- Northern Sky Survey (north of Dec =-30$^{\\circ}$) 3 day cadence\n",
    "- Galactic Plane Survey, |b|<7$^{\\circ}$ and Dec =-25$^{\\circ}$, 1 day cadence\n",
    "- g band and r band observation sperated by > 30 mins in one night\n",
    "- 30s exposure, gMag < ~20.6, rMag < ~20.5\n",
    "- low-resolution spectra might be available for extragalactic trasients brighter than 18.5 mag\n",
    "\n",
    "#### Notes:\n",
    " - light curves are generated from PSF-fit-based photometry\n",
    " \n",
    "**More details** for DR1 and how to access can be found through the link below:\n",
    "https://www.ztf.caltech.edu/page/dr1"
   ]
  },
  {
   "cell_type": "markdown",
   "metadata": {},
   "source": [
    " #### Distribution of the number of observations for survey area"
   ]
  },
  {
   "cell_type": "code",
   "execution_count": 5,
   "metadata": {},
   "outputs": [
    {
     "data": {
      "text/html": [
       "<img src=\"mtchfiles_nsources_nobs.png\" width=\"500\" height=\"300\"/>"
      ],
      "text/plain": [
       "<IPython.core.display.Image object>"
      ]
     },
     "execution_count": 5,
     "metadata": {},
     "output_type": "execute_result"
    }
   ],
   "source": [
    "Image(url= \"mtchfiles_nsources_nobs.png\", width=500, height=300)"
   ]
  },
  {
   "cell_type": "markdown",
   "metadata": {},
   "source": [
    "---\n",
    "## CRTS (I & II)\n",
    "- 2008 - 2015?\n",
    "- -75$^{\\circ}$ < Dec < 70$^{\\circ}$, |b| > 15$^{\\circ}$\n",
    "- 11.5 < Vmag < 21.5, aperature-based photometry (SExtractor)\n",
    "- 30s exposures, four observation over 30 mins for each field\n",
    "\n",
    "#### Survey Coverage:"
   ]
  },
  {
   "cell_type": "code",
   "execution_count": 4,
   "metadata": {},
   "outputs": [
    {
     "data": {
      "text/html": [
       "<img src=\"http://nesssi.cacr.caltech.edu/DataRelease/CSSinvCSSAitodc.png\" width=\"800\" height=\"300\"/>"
      ],
      "text/plain": [
       "<IPython.core.display.Image object>"
      ]
     },
     "execution_count": 4,
     "metadata": {},
     "output_type": "execute_result"
    }
   ],
   "source": [
    "Image(url= \"http://nesssi.cacr.caltech.edu/DataRelease/CSSinvCSSAitodc.png\", \n",
    "      width=800, height=300)"
   ]
  }
 ],
 "metadata": {
  "kernelspec": {
   "display_name": "Python 3",
   "language": "python",
   "name": "python3"
  },
  "language_info": {
   "codemirror_mode": {
    "name": "ipython",
    "version": 3
   },
   "file_extension": ".py",
   "mimetype": "text/x-python",
   "name": "python",
   "nbconvert_exporter": "python",
   "pygments_lexer": "ipython3",
   "version": "3.6.6"
  }
 },
 "nbformat": 4,
 "nbformat_minor": 2
}
