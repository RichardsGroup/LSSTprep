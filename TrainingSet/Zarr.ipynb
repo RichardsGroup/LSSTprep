{
 "cells": [
  {
   "cell_type": "markdown",
   "metadata": {},
   "source": [
    "**This notebook provides a better explanation of the zarr file data structure and how to interact with zarr directly**"
   ]
  },
  {
   "cell_type": "code",
   "execution_count": 36,
   "metadata": {},
   "outputs": [],
   "source": [
    "import zarr\n",
    "import pandas as pd\n",
    "pd.set_option('display.max_columns', 999)"
   ]
  },
  {
   "cell_type": "markdown",
   "metadata": {},
   "source": [
    "Below are a few words quoted directly from zarr's [website](https://zarr.readthedocs.io/en/stable/#highlights).\n",
    "\n",
    "> Zarr is a Python package providing an implementation of chunked, compressed, N-dimensional arrays.\n",
    "\n",
    "#### Highlights:\n",
    "> * Create N-dimensional arrays with any NumPy dtype.  \n",
    "> * Chunk arrays along any dimension.  \n",
    "> * Compress and/or filter chunks using any NumCodecs codec.  \n",
    "> * Store arrays in memory, on disk, inside a Zip file, on S3, …  \n",
    "> * Read an array concurrently from multiple threads or processes.  \n",
    "> * Write to an array concurrently from multiple threads or processes.  \n",
    "> * Organize arrays into hierarchies via groups.  "
   ]
  },
  {
   "cell_type": "markdown",
   "metadata": {},
   "source": [
    "I choose zarr as the backend storage format mostly because it supports concurrent read/write, which will be extremely beneficial when our training set grows too large to fit into the memory. In addition, it intergrates well with dask package to implement multi-processing/threading algorithms. \n",
    "\n",
    "Here I will briefly show how to directly interact with the training set stored in zarr. For more detailed tutorial for zarr, please check out [zarr's documentation](https://zarr.readthedocs.io/en/stable/#highlights)."
   ]
  },
  {
   "cell_type": "code",
   "execution_count": 37,
   "metadata": {},
   "outputs": [],
   "source": [
    "# create connection to the file (without loading in anythin)\n",
    "root = zarr.open('../Data/qso.zarr')"
   ]
  },
  {
   "cell_type": "code",
   "execution_count": 38,
   "metadata": {},
   "outputs": [
    {
     "data": {
      "text/html": [
       "<link rel=\"stylesheet\" href=\"//cdnjs.cloudflare.com/ajax/libs/jstree/3.3.3/themes/default/style.min.css\"/><div id=\"1f0f6198-4aa6-4771-b5e2-338a3dea5c9b\" class=\"zarr-tree\"><ul><li data-jstree='{\"type\": \"Group\"}' class='jstree-open'><span>/</span><ul><li data-jstree='{\"type\": \"Array\"}' class=''><span>catalog (10696,) [('RA_sdss', '<f8'), ('DEC_sdss', '<f8'), ('Z', '<f8'), ('Z_ERR', '<f8'), ('SpecQ', '<i8'), ('Var_LC', '<i8'), ('good_z', '<i8'), ('ID_sdss', '<i8'), ('RA_sp', '<f8'), ('DEC_sp', '<f8'), ('SPIES_ID', '<i8'), ('FLUX_AUTO_ch1', '<f8'), ('FLUXERR_AUTO_ch1', '<f8'), ('FLUX_AUTO_ch2', '<f8'), ('FLUXERR_AUTO_ch2', '<f8'), ('CLASS_STAR_ch1', '<f8'), ('CLASS_STAR_ch2', '<f8'), ('sdss2spies', '<f8'), ('sdss2gaia', '<f8'), ('gaia_id', '<i8'), ('pmra', '<f8'), ('pmra_error', '<f8'), ('pmdec', '<f8'), ('pmdec_error', '<f8'), ('r', '<f8'), ('ug', '<f8'), ('gr', '<f8'), ('ri', '<f8'), ('iz', '<f8'), ('gN', '<i8'), ('gAmpl', '<f8'), ('rN', '<i8'), ('rAmpl', '<f8'), ('iN', '<i8'), ('iAmpl', '<f8')]</span></li><li data-jstree='{\"type\": \"Group\"}' class=''><span>cross_id</span></li><li data-jstree='{\"type\": \"Group\"}' class=''><span>crts_lc</span></li><li data-jstree='{\"type\": \"Group\"}' class=''><span>sdss_lc</span></li></ul></li></ul></div>\n",
       "<script>\n",
       "    if (!require.defined('jquery')) {\n",
       "        require.config({\n",
       "            paths: {\n",
       "                jquery: '//cdnjs.cloudflare.com/ajax/libs/jquery/1.12.1/jquery.min'\n",
       "            },\n",
       "        });\n",
       "    }\n",
       "    if (!require.defined('jstree')) {\n",
       "        require.config({\n",
       "            paths: {\n",
       "                jstree: '//cdnjs.cloudflare.com/ajax/libs/jstree/3.3.3/jstree.min'\n",
       "            },\n",
       "        });\n",
       "    }\n",
       "    require(['jstree'], function() {\n",
       "        $('#1f0f6198-4aa6-4771-b5e2-338a3dea5c9b').jstree({\n",
       "            types: {\n",
       "                Group: {\n",
       "                    icon: \"fa fa-folder\"\n",
       "                },\n",
       "                Array: {\n",
       "                    icon: \"fa fa-table\"\n",
       "                }\n",
       "            },\n",
       "            plugins: [\"types\"]\n",
       "        });\n",
       "    });\n",
       "</script>\n"
      ],
      "text/plain": [
       "/\n",
       " ├── catalog (10696,) [('RA_sdss', '<f8'), ('DEC_sdss', '<f8'), ('Z', '<f8'), ('Z_ERR', '<f8'), ('SpecQ', '<i8'), ('Var_LC', '<i8'), ('good_z', '<i8'), ('ID_sdss', '<i8'), ('RA_sp', '<f8'), ('DEC_sp', '<f8'), ('SPIES_ID', '<i8'), ('FLUX_AUTO_ch1', '<f8'), ('FLUXERR_AUTO_ch1', '<f8'), ('FLUX_AUTO_ch2', '<f8'), ('FLUXERR_AUTO_ch2', '<f8'), ('CLASS_STAR_ch1', '<f8'), ('CLASS_STAR_ch2', '<f8'), ('sdss2spies', '<f8'), ('sdss2gaia', '<f8'), ('gaia_id', '<i8'), ('pmra', '<f8'), ('pmra_error', '<f8'), ('pmdec', '<f8'), ('pmdec_error', '<f8'), ('r', '<f8'), ('ug', '<f8'), ('gr', '<f8'), ('ri', '<f8'), ('iz', '<f8'), ('gN', '<i8'), ('gAmpl', '<f8'), ('rN', '<i8'), ('rAmpl', '<f8'), ('iN', '<i8'), ('iAmpl', '<f8')]\n",
       " ├── cross_id\n",
       " ├── crts_lc\n",
       " └── sdss_lc"
      ]
     },
     "execution_count": 38,
     "metadata": {},
     "output_type": "execute_result"
    }
   ],
   "source": [
    "# check out datasets/groups under the root directory\n",
    "# leave out level=1 will show all hieracrchies, will crash if too many subdirectories or datasets\n",
    "root.tree(level=1) "
   ]
  },
  {
   "cell_type": "code",
   "execution_count": 39,
   "metadata": {},
   "outputs": [
    {
     "data": {
      "text/plain": [
       "{'catalog': 'Master catalog dataset, one source per row',\n",
       " 'cross_id': 'This group stores the CRTS light curve ID for matched sources',\n",
       " 'crts_lc': 'This group stores light curve from CRTS, each dataset is one light curve',\n",
       " 'sdss_lc': 'This group stores light curve from SDSS, each dataset is one light curve'}"
      ]
     },
     "execution_count": 39,
     "metadata": {},
     "output_type": "execute_result"
    }
   ],
   "source": [
    "# see brief explanation for the purpose of each dataset/group\n",
    "root.attrs.asdict()"
   ]
  },
  {
   "cell_type": "code",
   "execution_count": 34,
   "metadata": {},
   "outputs": [
    {
     "data": {
      "text/html": [
       "<div>\n",
       "<style scoped>\n",
       "    .dataframe tbody tr th:only-of-type {\n",
       "        vertical-align: middle;\n",
       "    }\n",
       "\n",
       "    .dataframe tbody tr th {\n",
       "        vertical-align: top;\n",
       "    }\n",
       "\n",
       "    .dataframe thead th {\n",
       "        text-align: right;\n",
       "    }\n",
       "</style>\n",
       "<table border=\"1\" class=\"dataframe\">\n",
       "  <thead>\n",
       "    <tr style=\"text-align: right;\">\n",
       "      <th></th>\n",
       "      <th>RA_sdss</th>\n",
       "      <th>DEC_sdss</th>\n",
       "      <th>Z</th>\n",
       "      <th>Z_ERR</th>\n",
       "      <th>SpecQ</th>\n",
       "      <th>Var_LC</th>\n",
       "      <th>good_z</th>\n",
       "      <th>ID_sdss</th>\n",
       "      <th>RA_sp</th>\n",
       "      <th>DEC_sp</th>\n",
       "      <th>SPIES_ID</th>\n",
       "      <th>FLUX_AUTO_ch1</th>\n",
       "      <th>FLUXERR_AUTO_ch1</th>\n",
       "      <th>FLUX_AUTO_ch2</th>\n",
       "      <th>FLUXERR_AUTO_ch2</th>\n",
       "      <th>CLASS_STAR_ch1</th>\n",
       "      <th>CLASS_STAR_ch2</th>\n",
       "      <th>sdss2spies</th>\n",
       "      <th>sdss2gaia</th>\n",
       "      <th>gaia_id</th>\n",
       "      <th>pmra</th>\n",
       "      <th>pmra_error</th>\n",
       "      <th>pmdec</th>\n",
       "      <th>pmdec_error</th>\n",
       "      <th>r</th>\n",
       "      <th>ug</th>\n",
       "      <th>gr</th>\n",
       "      <th>ri</th>\n",
       "      <th>iz</th>\n",
       "      <th>gN</th>\n",
       "      <th>gAmpl</th>\n",
       "      <th>rN</th>\n",
       "      <th>rAmpl</th>\n",
       "      <th>iN</th>\n",
       "      <th>iAmpl</th>\n",
       "    </tr>\n",
       "  </thead>\n",
       "  <tbody>\n",
       "    <tr>\n",
       "      <th>0</th>\n",
       "      <td>2.169302</td>\n",
       "      <td>1.238649</td>\n",
       "      <td>1.0733</td>\n",
       "      <td>0.0017</td>\n",
       "      <td>7</td>\n",
       "      <td>0</td>\n",
       "      <td>1</td>\n",
       "      <td>70</td>\n",
       "      <td>-999.0</td>\n",
       "      <td>-999.0</td>\n",
       "      <td>-999</td>\n",
       "      <td>-999.0</td>\n",
       "      <td>-999.0</td>\n",
       "      <td>-999.0</td>\n",
       "      <td>-999.0</td>\n",
       "      <td>-999.0</td>\n",
       "      <td>-999.0</td>\n",
       "      <td>-999.0</td>\n",
       "      <td>0.000028</td>\n",
       "      <td>2546563316130849792</td>\n",
       "      <td>-999.000000</td>\n",
       "      <td>-999.000000</td>\n",
       "      <td>-999.000000</td>\n",
       "      <td>-999.000000</td>\n",
       "      <td>20.135056</td>\n",
       "      <td>0.293376</td>\n",
       "      <td>0.248568</td>\n",
       "      <td>0.142036</td>\n",
       "      <td>0.026312</td>\n",
       "      <td>60</td>\n",
       "      <td>0.379</td>\n",
       "      <td>60</td>\n",
       "      <td>0.409</td>\n",
       "      <td>59</td>\n",
       "      <td>0.414</td>\n",
       "    </tr>\n",
       "    <tr>\n",
       "      <th>1</th>\n",
       "      <td>1.091028</td>\n",
       "      <td>0.962126</td>\n",
       "      <td>0.7926</td>\n",
       "      <td>0.0007</td>\n",
       "      <td>7</td>\n",
       "      <td>0</td>\n",
       "      <td>1</td>\n",
       "      <td>98</td>\n",
       "      <td>-999.0</td>\n",
       "      <td>-999.0</td>\n",
       "      <td>-999</td>\n",
       "      <td>-999.0</td>\n",
       "      <td>-999.0</td>\n",
       "      <td>-999.0</td>\n",
       "      <td>-999.0</td>\n",
       "      <td>-999.0</td>\n",
       "      <td>-999.0</td>\n",
       "      <td>-999.0</td>\n",
       "      <td>0.000030</td>\n",
       "      <td>2738365148137353216</td>\n",
       "      <td>1.004082</td>\n",
       "      <td>1.614945</td>\n",
       "      <td>0.956702</td>\n",
       "      <td>1.407345</td>\n",
       "      <td>19.751278</td>\n",
       "      <td>0.558688</td>\n",
       "      <td>0.297034</td>\n",
       "      <td>0.007393</td>\n",
       "      <td>0.366406</td>\n",
       "      <td>52</td>\n",
       "      <td>0.631</td>\n",
       "      <td>52</td>\n",
       "      <td>0.485</td>\n",
       "      <td>52</td>\n",
       "      <td>0.622</td>\n",
       "    </tr>\n",
       "  </tbody>\n",
       "</table>\n",
       "</div>"
      ],
      "text/plain": [
       "    RA_sdss  DEC_sdss       Z   Z_ERR  SpecQ  Var_LC  good_z  ID_sdss  RA_sp  \\\n",
       "0  2.169302  1.238649  1.0733  0.0017      7       0       1       70 -999.0   \n",
       "1  1.091028  0.962126  0.7926  0.0007      7       0       1       98 -999.0   \n",
       "\n",
       "   DEC_sp  SPIES_ID  FLUX_AUTO_ch1  FLUXERR_AUTO_ch1  FLUX_AUTO_ch2  \\\n",
       "0  -999.0      -999         -999.0            -999.0         -999.0   \n",
       "1  -999.0      -999         -999.0            -999.0         -999.0   \n",
       "\n",
       "   FLUXERR_AUTO_ch2  CLASS_STAR_ch1  CLASS_STAR_ch2  sdss2spies  sdss2gaia  \\\n",
       "0            -999.0          -999.0          -999.0      -999.0   0.000028   \n",
       "1            -999.0          -999.0          -999.0      -999.0   0.000030   \n",
       "\n",
       "               gaia_id        pmra  pmra_error       pmdec  pmdec_error  \\\n",
       "0  2546563316130849792 -999.000000 -999.000000 -999.000000  -999.000000   \n",
       "1  2738365148137353216    1.004082    1.614945    0.956702     1.407345   \n",
       "\n",
       "           r        ug        gr        ri        iz  gN  gAmpl  rN  rAmpl  \\\n",
       "0  20.135056  0.293376  0.248568  0.142036  0.026312  60  0.379  60  0.409   \n",
       "1  19.751278  0.558688  0.297034  0.007393  0.366406  52  0.631  52  0.485   \n",
       "\n",
       "   iN  iAmpl  \n",
       "0  59  0.414  \n",
       "1  52  0.622  "
      ]
     },
     "execution_count": 34,
     "metadata": {},
     "output_type": "execute_result"
    }
   ],
   "source": [
    "# get the catalog dataset\n",
    "cat_df = pd.DataFrame(root['catalog'][:])\n",
    "cat_df.head(2)"
   ]
  },
  {
   "cell_type": "code",
   "execution_count": 32,
   "metadata": {},
   "outputs": [
    {
     "data": {
      "text/plain": [
       "{'CLASS_STAR_ch1': '3.6 micrometer morphology classification, > 0.5 for resolved source',\n",
       " 'CLASS_STAR_ch2': '4.5 micrometer morphology classification, > 0.5 for resolved source',\n",
       " 'DEC_sdss': 'DEC from SDSS in degrees (J2000)',\n",
       " 'DEC_sp': 'DEC from SpIES in degrees (J2000)',\n",
       " 'FLUXERR_AUTO_ch1': '3.6 micrometer flux error given by SExtractor',\n",
       " 'FLUXERR_AUTO_ch2': '4.5 micrometer flux error given by SExtractor',\n",
       " 'FLUX_AUTO_ch1': '3.6 micrometer flux value automatically extracted using SExtractor',\n",
       " 'FLUX_AUTO_ch2': '4.5 micrometer flux value automatically extracted using SExtractor',\n",
       " 'ID_sdss': 'Unique ID for both QSO and variable stars',\n",
       " 'RA_sdss': 'RA from SDSS in degrees (J2000)',\n",
       " 'RA_sp': 'RA from THE SPITZER IRAC EQUATORIAL SURVEY (SpIES) in degrees (J2000)',\n",
       " 'SPIES_ID': 'Unique ID assigned to each source in SpIES',\n",
       " 'SpecQ': 'Source of spectrum, 7 for SDSS DR7 and 14 for SDSS DR14',\n",
       " 'Var_LC': '1 for light curve of corresponding object comes from Ivezic s82 variables catalog',\n",
       " 'Z': 'Spectroscopic redshift',\n",
       " 'Z_ERR': 'Error in redshift',\n",
       " 'gAmpl': 'SDSS g band amplitude in the light curve (max-min)',\n",
       " 'gN': 'Number epochs used to compute gAmpl',\n",
       " 'gaia_id': 'Gaia DR2 source id',\n",
       " 'good_z': '1, if Z is replaced with more reliable redshift measurement from Hewitt et al. 2010',\n",
       " 'gr': 'SDSS g-r color (corrected for ISM extinction)',\n",
       " 'iAmpl': 'SDSS i band amplitude in the light curve (max-min)',\n",
       " 'iN': 'Number epochs used to compute iAmpl',\n",
       " 'iz': 'SDSS i-z color (corrected for ISM extinction)',\n",
       " 'pmdec': 'Gaia DR2 proper motion measurement in DEC direction (mas/yr)',\n",
       " 'pmdec_error': 'Gaia DR2 proper motion measurement uncertainty in DEC direction (mas/yr)',\n",
       " 'pmra': 'Gaia DR2 proper motion measurement in RA direction (mas/yr)',\n",
       " 'pmra_error': 'Gaia DR2 proper motion measurement uncertainty in RA direction (mas/yr)',\n",
       " 'r': 'SDSS r band magnitude (corrected for ISM extinction)',\n",
       " 'rAmpl': 'SDSS r band amplitude in the light curve (max-min)',\n",
       " 'rN': 'Number epochs used to compute rAmpl',\n",
       " 'ri': 'SDSS r-i color (corrected for ISM extinction)',\n",
       " 'sdss2gaia': 'Distance (in arcsec) between matched source in SDSS and Gaia',\n",
       " 'sdss2spies': 'Distance (in arcsec) between matched source in SDSS and SpIES',\n",
       " 'ug': 'SDSS u-g color (corrected for ISM extinction)'}"
      ]
     },
     "execution_count": 32,
     "metadata": {},
     "output_type": "execute_result"
    }
   ],
   "source": [
    "# show definition for each columns in catalog dataset\n",
    "root['catalog'].attrs.asdict()"
   ]
  },
  {
   "cell_type": "code",
   "execution_count": 40,
   "metadata": {},
   "outputs": [
    {
     "data": {
      "text/plain": [
       "['1000679', '1000743']"
      ]
     },
     "execution_count": 40,
     "metadata": {},
     "output_type": "execute_result"
    }
   ],
   "source": [
    "# see the first few keys in the sdss_lc group, keys are the corresponding ID_sdss value for each source in catalog\n",
    "list(root['sdss_lc'].array_keys())[:2]"
   ]
  },
  {
   "cell_type": "code",
   "execution_count": null,
   "metadata": {},
   "outputs": [],
   "source": []
  }
 ],
 "metadata": {
  "kernelspec": {
   "display_name": "Python 3",
   "language": "python",
   "name": "python3"
  },
  "language_info": {
   "codemirror_mode": {
    "name": "ipython",
    "version": 3
   },
   "file_extension": ".py",
   "mimetype": "text/x-python",
   "name": "python",
   "nbconvert_exporter": "python",
   "pygments_lexer": "ipython3",
   "version": "3.6.7"
  }
 },
 "nbformat": 4,
 "nbformat_minor": 2
}
